{
  "cells": [
    {
      "cell_type": "code",
      "execution_count": 1,
      "id": "66f3eb22",
      "metadata": {
        "id": "66f3eb22"
      },
      "outputs": [],
      "source": [
        "import torch\n",
        "import torch.nn.functional as F\n",
        "import numpy as np                 # import numpy\n",
        "import matplotlib.pyplot as plt    # import matplotlib\n",
        "from torch.utils.data import Dataset, DataLoader\n",
        "import torch.optim as optim\n",
        "from tqdm import tqdm\n",
        "import h5py\n",
        "import scipy\n",
        "from scipy.signal import find_peaks\n",
        "from IPython.display import Image\n",
        "\n",
        "use_cuda = torch.cuda.is_available()\n",
        "device = torch.device(\"cuda:0\" if use_cuda else \"cpu\")"
      ]
    },
    {
      "cell_type": "code",
      "source": [
        "class load_dataset(Dataset):\n",
        "    def __init__(self, path,device):\n",
        "        data = scipy.io.loadmat(path)['imagingData']['samples'][0,0]\n",
        "        self.y = torch.zeros((len(data), data[0].shape[0]*data[0].shape[1]), device=device)\n",
        "        for i in range(len(data)):\n",
        "          self.y[i] = torch.tensor(data[i].flatten())\n",
        "        self.y = torch.unsqueeze(self.y, 1)\n",
        "\n",
        "    def __len__(self):\n",
        "        return len(self.y)\n",
        "\n",
        "    def __getitem__(self, idx):\n",
        "        return self.y[idx]\n",
        "\n",
        "# create dataset\n",
        "dataset = load_dataset(r'./data.mat',device = device)\n",
        "print(dataset[0].shape)"
      ],
      "metadata": {
        "colab": {
          "base_uri": "https://localhost:8080/"
        },
        "id": "Fms9sreE0IuR",
        "outputId": "a7baab9d-b370-4ffb-9fc9-51e57ff0adb3"
      },
      "id": "Fms9sreE0IuR",
      "execution_count": 2,
      "outputs": [
        {
          "output_type": "stream",
          "name": "stdout",
          "text": [
            "torch.Size([1, 14400])\n"
          ]
        }
      ]
    },
    {
      "cell_type": "code",
      "execution_count": 3,
      "id": "65b3dacc",
      "metadata": {
        "id": "65b3dacc"
      },
      "outputs": [],
      "source": [
        "def vis_code(x):\n",
        "    x = x.clone().detach().cpu().numpy()\n",
        "    color = [\"b\", \"r\"]\n",
        "    plt.figure(figsize=(20,3))\n",
        "    for c in range(x.shape[0]):\n",
        "        xc = x[c,:]\n",
        "        nz_x = np.where(xc>0)[0]\n",
        "        plt.plot(np.zeros(xc.shape), \"black\")\n",
        "        plt.stem(nz_x, xc[nz_x], label=\"x{}\".format(c+1), linefmt=\"{}\".format(color[c]), markerfmt=\"o{}\".format(color[c]), basefmt=\"black\", use_line_collection=True)\n",
        "        plt.legend()\n",
        "        plt.xlabel(\"Time [ms]\")\n",
        "    return\n",
        "\n",
        "def vis_code_est(x, xhat):\n",
        "    x = x.clone().detach().cpu().numpy()\n",
        "    xhat = xhat.clone().detach().cpu().numpy()\n",
        "    color = [\"b\", \"r\"]\n",
        "    plt.figure(figsize=(20,3))\n",
        "\n",
        "    for c in range(x.shape[0]):\n",
        "        xc = x[c,:]\n",
        "        nz_x = np.where(xc>0)[0]\n",
        "        plt.plot(np.zeros(xc.shape), \"black\")\n",
        "        plt.stem(nz_x, xc[nz_x], label=\"x{}\".format(c+1), linefmt=\"black\", markerfmt=\"o{}\".format(color[c]), basefmt=\"black\", use_line_collection=True)\n",
        "        xchat = xhat[c,:]\n",
        "        nz_xhat = np.where(xchat>0)[0]\n",
        "        plt.stem(nz_xhat, xchat[nz_xhat], label=\"xhat{}\".format(c+1), linefmt=\"-.{}\".format(color[c]), markerfmt=\"*{}\".format(color[c]), basefmt=\"black\", use_line_collection=True)\n",
        "        plt.legend()\n",
        "        plt.title(\"x\")\n",
        "        plt.legend()\n",
        "        plt.xlabel(\"Time [ms]\")\n",
        "    return\n",
        "\n",
        "def vis_filters(h):\n",
        "    h = h.clone().detach().cpu().numpy()\n",
        "    color = [\"b\", \"r\"]\n",
        "    plt.figure(figsize=(5,2))\n",
        "    for c in range(h.shape[0]):\n",
        "        plt.plot(h[c,0,:], label=\"true\", color=color[c])\n",
        "    plt.title(\"h\")\n",
        "    plt.xlabel(\"Time [ms]\")\n",
        "    return\n",
        "\n",
        "def vis_filter_est(h, h_init, h_hat):\n",
        "    if h is not None:\n",
        "      h = h.clone().detach().cpu().numpy()\n",
        "    h_init = h_init.clone().detach().cpu().numpy()\n",
        "    h_hat = h_hat.clone().detach().cpu().numpy()\n",
        "    color = [\"b\", \"r\"]\n",
        "    plt.figure(figsize=(15,3))\n",
        "    for c in range(h_init.shape[0]):\n",
        "        plt.subplot(1,h_init.shape[0],c+1)\n",
        "        if h is not None:\n",
        "          plt.plot(h[c,0,:], label=\"true\", color=\"black\")\n",
        "        plt.plot(h_init[c,0,:], \"--\", label=\"init\", color=\"gray\")\n",
        "        plt.plot(h_hat[c,0,:], label=\"est\", color=color[c])\n",
        "        plt.title(\"h{}\".format(c+1))\n",
        "        plt.xlabel(\"Time [ms]\")\n",
        "        plt.legend()\n",
        "    return\n",
        "\n",
        "def vis_data(y):\n",
        "    y = y.clone().detach().cpu().numpy()\n",
        "    plt.figure(figsize=(20,3))\n",
        "    plt.plot(y, label=\"raw\", color=\"black\")\n",
        "    plt.title(\"y\")\n",
        "    plt.xlabel(\"Time [ms]\")\n",
        "    plt.legend()\n",
        "    return\n",
        "\n",
        "def vis_data_est(y,y_hat):\n",
        "    y = y.clone().detach().cpu().numpy()\n",
        "    y_hat = y_hat.clone().detach().cpu().numpy()\n",
        "    plt.figure(figsize=(20,3))\n",
        "    plt.plot(y, label=\"raw\", color=\"black\")\n",
        "    plt.plot(y_hat, label=\"denoised\", color=\"orange\")\n",
        "    plt.title(\"y\")\n",
        "    plt.xlabel(\"Time [ms]\")\n",
        "    plt.legend()\n",
        "    return\n",
        "\n",
        "def vis_data_separated_est(hx1,hx2):\n",
        "    hx1 = hx1.clone().detach().cpu().numpy()\n",
        "    hx2 = hx2.clone().detach().cpu().numpy()\n",
        "    color = [\"b\", \"r\"]\n",
        "    plt.figure(figsize=(20,3))\n",
        "    plt.plot(hx1, label=\"1\", color=color[0])\n",
        "    plt.plot(hx2, label=\"2\", color=color[1])\n",
        "    plt.title(\"y\")\n",
        "    plt.xlabel(\"Time [ms]\")\n",
        "    plt.legend()\n",
        "\n",
        "def vis_miss_false(missed_per_list, false_per_list):\n",
        "  plt.figure(figsize=(10,5))\n",
        "  plt.plot(missed_per_list, false_per_list, color=\"black\", label=\"CRsAE\")\n",
        "  plt.xlabel(\"True Miss [%]\")\n",
        "  plt.ylabel(\"False Alarm [%]\")\n",
        "  plt.ylim(0,1.1*np.max(false_per_list))\n",
        "  plt.xlim(0,1.1*np.max(missed_per_list))\n",
        "  plt.legend()\n",
        "  return\n",
        "\n",
        "def load_filters(device):\n",
        "    return torch.load(\"data/h_sim_2.pt\").to(device)\n",
        "\n",
        "def load_h_init_harris(device):\n",
        "    return torch.load(\"data/h_init_harris.pt\").to(device)\n",
        "\n",
        "def load_y_harris(device):\n",
        "    return torch.load(\"data/y_harris.pt\").to(device)\n",
        "\n",
        "def load_y_series_harris(device):\n",
        "    return torch.load(\"data/y_series_harris.pt\").to(device)\n",
        "\n",
        "# create distance measure for dictionary\n",
        "def compute_err_h(h, h_hat):\n",
        "    h = h.clone().detach()\n",
        "    h_hat = h_hat.clone().detach()\n",
        "\n",
        "    err = torch.zeros(h.shape[0])\n",
        "    for c in range(h.shape[0]):\n",
        "        corr = torch.sum(h[c, 0, :] * h_hat[c, 0, :])\n",
        "        err[c] = torch.sqrt(torch.abs(1 - corr) ** 2)\n",
        "    return err\n",
        "\n",
        "def initialize_filter(H):\n",
        "  flag = 1\n",
        "  while flag:\n",
        "    H_init = H + 0.4 * torch.randn(H.shape, device=device)\n",
        "    H_init = F.normalize(H_init, p=2, dim=-1)\n",
        "    if torch.max(compute_err_h(H, H_init)) < 0.5:\n",
        "      if torch.min(compute_err_h(H, H_init)) > 0.4:\n",
        "        flag = 0\n",
        "\n",
        "  return H_init"
      ]
    },
    {
      "cell_type": "code",
      "source": [
        "class CRsAE1D(torch.nn.Module):\n",
        "    def __init__(self, hyp, H=None):\n",
        "        super(CRsAE1D, self).__init__()\n",
        "\n",
        "        self.T = hyp[\"T\"]            # number of encoder unfolding\n",
        "        self.L = hyp[\"L\"]            # 1/L is the step size in the encoder\n",
        "        self.C = hyp[\"C\"]            # number of filters\n",
        "        self.K = hyp[\"K\"]            # legnth of the filters\n",
        "        self.lam = hyp[\"lam\"]        # lambda (regularization parameter)\n",
        "        self.device = hyp[\"device\"]  # device (i.e., cpu, cuda0)\n",
        "\n",
        "        # initialize the filter H\n",
        "        if H is None:\n",
        "            # initialize with random normal\n",
        "            H = torch.randn((self.C, 1, self.K), device=self.device)\n",
        "            # normalize that each filter has norm 1\n",
        "            H = F.normalize(H, p=2, dim=-1)\n",
        "        # register the filters as weights of\n",
        "        # the neural network so that to be trainable.\n",
        "        self.register_parameter(\"H\", torch.nn.Parameter(H))\n",
        "        # create ReLU\n",
        "        self.relu = torch.nn.ReLU()\n",
        "\n",
        "    def get_param(self, name):\n",
        "        # get parameters with name\n",
        "        return self.state_dict(keep_vars=True)[name]\n",
        "\n",
        "    def normalize(self):\n",
        "        # normalize the filters\n",
        "        self.get_param(\"H\").data = F.normalize(self.get_param(\"H\").data, p=2, dim=-1)\n",
        "\n",
        "    def H_operator(self, x):\n",
        "        return F.conv_transpose1d(x, self.get_param(\"H\"))\n",
        "\n",
        "    def HT_operator(self, x):\n",
        "        return F.conv1d(x, self.get_param(\"H\"))\n",
        "\n",
        "    def encoder(self, y):\n",
        "        enc_dim = F.conv1d(y, self.get_param(\"H\")).shape[-1]\n",
        "\n",
        "        x_old = torch.zeros(y.shape[0], self.C, enc_dim, device=self.device)\n",
        "        x_tmp = torch.zeros(y.shape[0], self.C, enc_dim, device=self.device)\n",
        "        x_new = torch.zeros(y.shape[0], self.C, enc_dim, device=self.device)\n",
        "        s_old = torch.tensor(1, device=self.device).float()\n",
        "\n",
        "        # T recurrent steps\n",
        "        for t in range(self.T):\n",
        "            res = y - self.H_operator(x_tmp)\n",
        "\n",
        "            x_new = x_tmp + self.HT_operator(res) / self.L\n",
        "\n",
        "            x_new = self.relu(x_new - self.lam / self.L)\n",
        "\n",
        "            s_new = (1 + torch.sqrt(1 + 4 * s_old * s_old)) / 2\n",
        "            x_tmp = x_new + (s_old - 1) / s_new * (x_new - x_old)\n",
        "\n",
        "            x_old = x_new\n",
        "            s_old = s_new\n",
        "        return x_new\n",
        "\n",
        "    def decoder(self, x):\n",
        "        return F.conv_transpose1d(x, self.get_param(\"H\"))\n",
        "\n",
        "    def forward(self, y):\n",
        "        # encoder\n",
        "        x = self.encoder(y)\n",
        "        # decoder\n",
        "        y_hat = self.decoder(x)\n",
        "        return y_hat, x\n",
        "\n",
        "    def separate(self,y):\n",
        "        with torch.no_grad():\n",
        "            # encoder\n",
        "            x = self.encoder(y)\n",
        "\n",
        "            hx_separate = torch.zeros((y.shape[0], self.C, y.shape[-1]), device=self.device)\n",
        "            for c in range(self.C):\n",
        "                xc = torch.unsqueeze(x[:,c,:], dim=1)\n",
        "                hc = torch.unsqueeze(self.get_param(\"H\")[c,:,:],dim=0)\n",
        "                hx_separate[:,c,:] =  torch.squeeze(F.conv_transpose1d(xc, hc),dim=1)\n",
        "\n",
        "        return hx_separate"
      ],
      "metadata": {
        "id": "d4MUQjg-ZU2S"
      },
      "id": "d4MUQjg-ZU2S",
      "execution_count": 4,
      "outputs": []
    },
    {
      "cell_type": "code",
      "execution_count": 5,
      "id": "230cfd02",
      "metadata": {
        "id": "230cfd02"
      },
      "outputs": [],
      "source": [
        "##########################\n",
        "######## step 3.1. #######\n",
        "##### build network ######\n",
        "##########################\n",
        "\n",
        "##########################\n",
        "####### step 3.1.1 ######\n",
        "##########################\n",
        "# fill in the gaps\n",
        "net_hyp = {\"T\": 800,                 # number of encoder unfolding\n",
        "           \"L\": 10,                  # 1/L is the step size in the encoder\n",
        "           \"C\": 1,                 # number of filters\n",
        "           \"K\": 5,                  # legnth of the filters\n",
        "           \"lam\": 1.5,\n",
        "           \"device\": device\n",
        "           }\n",
        "#H_init = initialize_filter(dataset.H.clone())\n",
        "##########################\n",
        "####### step 3.1.2. ######\n",
        "##########################\n",
        "# create the newtork with hyperparameters define above, and also H=H_init\n",
        "net = CRsAE1D(net_hyp)\n",
        "\n",
        "##########################\n",
        "######## step 3.2. #######\n",
        "##########################\n",
        "# training parameters\n",
        "train_hyp = {\"batch_size\": 8, \"num_epochs\": 50, \"lr\": 1e-2, \"shuffle\": True}\n",
        "# data loader\n",
        "train_loader = DataLoader(dataset, shuffle=train_hyp[\"shuffle\"], batch_size=train_hyp[\"batch_size\"])\n",
        "##########################\n",
        "######## step 3.3. #######\n",
        "##########################\n",
        "# criterion\n",
        "criterion = torch.nn.MSELoss()\n",
        "##########################\n",
        "######## step 3.4. #######\n",
        "##########################\n",
        "# optimizer\n",
        "optimizer = optim.Adam(net.parameters(), lr=train_hyp[\"lr\"], eps=1e-3)"
      ]
    },
    {
      "cell_type": "code",
      "execution_count": 6,
      "id": "836b8b84",
      "metadata": {
        "colab": {
          "base_uri": "https://localhost:8080/"
        },
        "id": "836b8b84",
        "outputId": "3b0a844f-4919-467d-b42a-8bb60e4815b4"
      },
      "outputs": [
        {
          "output_type": "stream",
          "name": "stderr",
          "text": [
            "3it [00:10,  3.42s/it]\n"
          ]
        },
        {
          "output_type": "stream",
          "name": "stdout",
          "text": [
            "Epoch [1/50]loss:0.6526\n",
            "\n"
          ]
        },
        {
          "output_type": "stream",
          "name": "stderr",
          "text": [
            "3it [00:02,  1.12it/s]\n"
          ]
        },
        {
          "output_type": "stream",
          "name": "stdout",
          "text": [
            "Epoch [2/50]loss:0.6456\n",
            "\n"
          ]
        },
        {
          "output_type": "stream",
          "name": "stderr",
          "text": [
            "3it [00:02,  1.11it/s]\n"
          ]
        },
        {
          "output_type": "stream",
          "name": "stdout",
          "text": [
            "Epoch [3/50]loss:0.6409\n",
            "\n"
          ]
        },
        {
          "output_type": "stream",
          "name": "stderr",
          "text": [
            "3it [00:03,  1.31s/it]\n"
          ]
        },
        {
          "output_type": "stream",
          "name": "stdout",
          "text": [
            "Epoch [4/50]loss:0.6320\n",
            "\n"
          ]
        },
        {
          "output_type": "stream",
          "name": "stderr",
          "text": [
            "3it [00:02,  1.11it/s]\n"
          ]
        },
        {
          "output_type": "stream",
          "name": "stdout",
          "text": [
            "Epoch [5/50]loss:0.6377\n",
            "\n"
          ]
        },
        {
          "output_type": "stream",
          "name": "stderr",
          "text": [
            "3it [00:02,  1.11it/s]\n"
          ]
        },
        {
          "output_type": "stream",
          "name": "stdout",
          "text": [
            "Epoch [6/50]loss:0.6280\n",
            "\n"
          ]
        },
        {
          "output_type": "stream",
          "name": "stderr",
          "text": [
            "3it [00:02,  1.11it/s]\n"
          ]
        },
        {
          "output_type": "stream",
          "name": "stdout",
          "text": [
            "Epoch [7/50]loss:0.6325\n",
            "\n"
          ]
        },
        {
          "output_type": "stream",
          "name": "stderr",
          "text": [
            "3it [00:02,  1.03it/s]\n"
          ]
        },
        {
          "output_type": "stream",
          "name": "stdout",
          "text": [
            "Epoch [8/50]loss:0.6271\n",
            "\n"
          ]
        },
        {
          "output_type": "stream",
          "name": "stderr",
          "text": [
            "3it [00:02,  1.11it/s]\n"
          ]
        },
        {
          "output_type": "stream",
          "name": "stdout",
          "text": [
            "Epoch [9/50]loss:0.6289\n",
            "\n"
          ]
        },
        {
          "output_type": "stream",
          "name": "stderr",
          "text": [
            "3it [00:02,  1.12it/s]\n"
          ]
        },
        {
          "output_type": "stream",
          "name": "stdout",
          "text": [
            "Epoch [10/50]loss:0.6305\n",
            "\n"
          ]
        },
        {
          "output_type": "stream",
          "name": "stderr",
          "text": [
            "3it [00:02,  1.12it/s]\n"
          ]
        },
        {
          "output_type": "stream",
          "name": "stdout",
          "text": [
            "Epoch [11/50]loss:0.6321\n",
            "\n"
          ]
        },
        {
          "output_type": "stream",
          "name": "stderr",
          "text": [
            "3it [00:02,  1.05it/s]\n"
          ]
        },
        {
          "output_type": "stream",
          "name": "stdout",
          "text": [
            "Epoch [12/50]loss:0.6365\n",
            "\n"
          ]
        },
        {
          "output_type": "stream",
          "name": "stderr",
          "text": [
            "3it [00:02,  1.06it/s]\n"
          ]
        },
        {
          "output_type": "stream",
          "name": "stdout",
          "text": [
            "Epoch [13/50]loss:0.6326\n",
            "\n"
          ]
        },
        {
          "output_type": "stream",
          "name": "stderr",
          "text": [
            "3it [00:02,  1.12it/s]\n"
          ]
        },
        {
          "output_type": "stream",
          "name": "stdout",
          "text": [
            "Epoch [14/50]loss:0.6403\n",
            "\n"
          ]
        },
        {
          "output_type": "stream",
          "name": "stderr",
          "text": [
            "3it [00:02,  1.12it/s]\n"
          ]
        },
        {
          "output_type": "stream",
          "name": "stdout",
          "text": [
            "Epoch [15/50]loss:0.6427\n",
            "\n"
          ]
        },
        {
          "output_type": "stream",
          "name": "stderr",
          "text": [
            "3it [00:02,  1.11it/s]\n"
          ]
        },
        {
          "output_type": "stream",
          "name": "stdout",
          "text": [
            "Epoch [16/50]loss:0.6364\n",
            "\n"
          ]
        },
        {
          "output_type": "stream",
          "name": "stderr",
          "text": [
            "3it [00:02,  1.05it/s]\n"
          ]
        },
        {
          "output_type": "stream",
          "name": "stdout",
          "text": [
            "Epoch [17/50]loss:0.6506\n",
            "\n"
          ]
        },
        {
          "output_type": "stream",
          "name": "stderr",
          "text": [
            "3it [00:02,  1.12it/s]\n"
          ]
        },
        {
          "output_type": "stream",
          "name": "stdout",
          "text": [
            "Epoch [18/50]loss:0.6384\n",
            "\n"
          ]
        },
        {
          "output_type": "stream",
          "name": "stderr",
          "text": [
            "3it [00:02,  1.11it/s]\n"
          ]
        },
        {
          "output_type": "stream",
          "name": "stdout",
          "text": [
            "Epoch [19/50]loss:0.6506\n",
            "\n"
          ]
        },
        {
          "output_type": "stream",
          "name": "stderr",
          "text": [
            "3it [00:02,  1.12it/s]\n"
          ]
        },
        {
          "output_type": "stream",
          "name": "stdout",
          "text": [
            "Epoch [20/50]loss:0.6574\n",
            "\n"
          ]
        },
        {
          "output_type": "stream",
          "name": "stderr",
          "text": [
            "3it [00:02,  1.04it/s]\n"
          ]
        },
        {
          "output_type": "stream",
          "name": "stdout",
          "text": [
            "Epoch [21/50]loss:0.6485\n",
            "\n"
          ]
        },
        {
          "output_type": "stream",
          "name": "stderr",
          "text": [
            "3it [00:02,  1.11it/s]\n"
          ]
        },
        {
          "output_type": "stream",
          "name": "stdout",
          "text": [
            "Epoch [22/50]loss:0.6503\n",
            "\n"
          ]
        },
        {
          "output_type": "stream",
          "name": "stderr",
          "text": [
            "3it [00:02,  1.12it/s]\n"
          ]
        },
        {
          "output_type": "stream",
          "name": "stdout",
          "text": [
            "Epoch [23/50]loss:0.6449\n",
            "\n"
          ]
        },
        {
          "output_type": "stream",
          "name": "stderr",
          "text": [
            "3it [00:02,  1.11it/s]\n"
          ]
        },
        {
          "output_type": "stream",
          "name": "stdout",
          "text": [
            "Epoch [24/50]loss:0.6578\n",
            "\n"
          ]
        },
        {
          "output_type": "stream",
          "name": "stderr",
          "text": [
            "3it [00:02,  1.06it/s]\n"
          ]
        },
        {
          "output_type": "stream",
          "name": "stdout",
          "text": [
            "Epoch [25/50]loss:0.6520\n",
            "\n"
          ]
        },
        {
          "output_type": "stream",
          "name": "stderr",
          "text": [
            "3it [00:02,  1.04it/s]\n"
          ]
        },
        {
          "output_type": "stream",
          "name": "stdout",
          "text": [
            "Epoch [26/50]loss:0.6640\n",
            "\n"
          ]
        },
        {
          "output_type": "stream",
          "name": "stderr",
          "text": [
            "3it [00:02,  1.12it/s]\n"
          ]
        },
        {
          "output_type": "stream",
          "name": "stdout",
          "text": [
            "Epoch [27/50]loss:0.6538\n",
            "\n"
          ]
        },
        {
          "output_type": "stream",
          "name": "stderr",
          "text": [
            "3it [00:02,  1.11it/s]\n"
          ]
        },
        {
          "output_type": "stream",
          "name": "stdout",
          "text": [
            "Epoch [28/50]loss:0.6514\n",
            "\n"
          ]
        },
        {
          "output_type": "stream",
          "name": "stderr",
          "text": [
            "3it [00:02,  1.11it/s]\n"
          ]
        },
        {
          "output_type": "stream",
          "name": "stdout",
          "text": [
            "Epoch [29/50]loss:0.6577\n",
            "\n"
          ]
        },
        {
          "output_type": "stream",
          "name": "stderr",
          "text": [
            "3it [00:02,  1.02it/s]\n"
          ]
        },
        {
          "output_type": "stream",
          "name": "stdout",
          "text": [
            "Epoch [30/50]loss:0.6542\n",
            "\n"
          ]
        },
        {
          "output_type": "stream",
          "name": "stderr",
          "text": [
            "3it [00:02,  1.11it/s]\n"
          ]
        },
        {
          "output_type": "stream",
          "name": "stdout",
          "text": [
            "Epoch [31/50]loss:0.6503\n",
            "\n"
          ]
        },
        {
          "output_type": "stream",
          "name": "stderr",
          "text": [
            "3it [00:02,  1.11it/s]\n"
          ]
        },
        {
          "output_type": "stream",
          "name": "stdout",
          "text": [
            "Epoch [32/50]loss:0.6493\n",
            "\n"
          ]
        },
        {
          "output_type": "stream",
          "name": "stderr",
          "text": [
            "3it [00:02,  1.12it/s]\n"
          ]
        },
        {
          "output_type": "stream",
          "name": "stdout",
          "text": [
            "Epoch [33/50]loss:0.6521\n",
            "\n"
          ]
        },
        {
          "output_type": "stream",
          "name": "stderr",
          "text": [
            "3it [00:02,  1.08it/s]\n"
          ]
        },
        {
          "output_type": "stream",
          "name": "stdout",
          "text": [
            "Epoch [34/50]loss:0.6575\n",
            "\n"
          ]
        },
        {
          "output_type": "stream",
          "name": "stderr",
          "text": [
            "3it [00:02,  1.07it/s]\n"
          ]
        },
        {
          "output_type": "stream",
          "name": "stdout",
          "text": [
            "Epoch [35/50]loss:0.6517\n",
            "\n"
          ]
        },
        {
          "output_type": "stream",
          "name": "stderr",
          "text": [
            "3it [00:02,  1.10it/s]\n"
          ]
        },
        {
          "output_type": "stream",
          "name": "stdout",
          "text": [
            "Epoch [36/50]loss:0.6502\n",
            "\n"
          ]
        },
        {
          "output_type": "stream",
          "name": "stderr",
          "text": [
            "3it [00:02,  1.11it/s]\n"
          ]
        },
        {
          "output_type": "stream",
          "name": "stdout",
          "text": [
            "Epoch [37/50]loss:0.6458\n",
            "\n"
          ]
        },
        {
          "output_type": "stream",
          "name": "stderr",
          "text": [
            "3it [00:02,  1.12it/s]\n"
          ]
        },
        {
          "output_type": "stream",
          "name": "stdout",
          "text": [
            "Epoch [38/50]loss:0.6498\n",
            "\n"
          ]
        },
        {
          "output_type": "stream",
          "name": "stderr",
          "text": [
            "3it [00:02,  1.04it/s]\n"
          ]
        },
        {
          "output_type": "stream",
          "name": "stdout",
          "text": [
            "Epoch [39/50]loss:0.6500\n",
            "\n"
          ]
        },
        {
          "output_type": "stream",
          "name": "stderr",
          "text": [
            "3it [00:02,  1.13it/s]\n"
          ]
        },
        {
          "output_type": "stream",
          "name": "stdout",
          "text": [
            "Epoch [40/50]loss:0.6538\n",
            "\n"
          ]
        },
        {
          "output_type": "stream",
          "name": "stderr",
          "text": [
            "3it [00:02,  1.13it/s]\n"
          ]
        },
        {
          "output_type": "stream",
          "name": "stdout",
          "text": [
            "Epoch [41/50]loss:0.6423\n",
            "\n"
          ]
        },
        {
          "output_type": "stream",
          "name": "stderr",
          "text": [
            "3it [00:02,  1.11it/s]\n"
          ]
        },
        {
          "output_type": "stream",
          "name": "stdout",
          "text": [
            "Epoch [42/50]loss:0.6551\n",
            "\n"
          ]
        },
        {
          "output_type": "stream",
          "name": "stderr",
          "text": [
            "3it [00:02,  1.05it/s]\n"
          ]
        },
        {
          "output_type": "stream",
          "name": "stdout",
          "text": [
            "Epoch [43/50]loss:0.6463\n",
            "\n"
          ]
        },
        {
          "output_type": "stream",
          "name": "stderr",
          "text": [
            "3it [00:02,  1.10it/s]\n"
          ]
        },
        {
          "output_type": "stream",
          "name": "stdout",
          "text": [
            "Epoch [44/50]loss:0.6426\n",
            "\n"
          ]
        },
        {
          "output_type": "stream",
          "name": "stderr",
          "text": [
            "3it [00:02,  1.11it/s]\n"
          ]
        },
        {
          "output_type": "stream",
          "name": "stdout",
          "text": [
            "Epoch [45/50]loss:0.6379\n",
            "\n"
          ]
        },
        {
          "output_type": "stream",
          "name": "stderr",
          "text": [
            "3it [00:02,  1.12it/s]\n"
          ]
        },
        {
          "output_type": "stream",
          "name": "stdout",
          "text": [
            "Epoch [46/50]loss:0.6433\n",
            "\n"
          ]
        },
        {
          "output_type": "stream",
          "name": "stderr",
          "text": [
            "3it [00:02,  1.11it/s]\n"
          ]
        },
        {
          "output_type": "stream",
          "name": "stdout",
          "text": [
            "Epoch [47/50]loss:0.6493\n",
            "\n"
          ]
        },
        {
          "output_type": "stream",
          "name": "stderr",
          "text": [
            "3it [00:02,  1.03it/s]\n"
          ]
        },
        {
          "output_type": "stream",
          "name": "stdout",
          "text": [
            "Epoch [48/50]loss:0.6410\n",
            "\n"
          ]
        },
        {
          "output_type": "stream",
          "name": "stderr",
          "text": [
            "3it [00:02,  1.12it/s]\n"
          ]
        },
        {
          "output_type": "stream",
          "name": "stdout",
          "text": [
            "Epoch [49/50]loss:0.6429\n",
            "\n"
          ]
        },
        {
          "output_type": "stream",
          "name": "stderr",
          "text": [
            "3it [00:02,  1.12it/s]"
          ]
        },
        {
          "output_type": "stream",
          "name": "stdout",
          "text": [
            "Epoch [50/50]loss:0.6371\n",
            "\n"
          ]
        },
        {
          "output_type": "stream",
          "name": "stderr",
          "text": [
            "\n"
          ]
        }
      ],
      "source": [
        "##########################\n",
        "####### step 3.5. ########\n",
        "######## training ########\n",
        "##########################\n",
        "\n",
        "#print(\"\\n start training!\")\n",
        "#print(\"initial err_H:{:4f}\\n\".format(torch.mean(compute_err_h(dataset.H, net.get_param(\"H\")))))\n",
        "# each loop is one pass over the whole dataset\n",
        "for epoch in tqdm(range(train_hyp[\"num_epochs\"]), disable=True):\n",
        "    loss_all = 0\n",
        "    # each loop is a mini-batch\n",
        "    for idx, y in tqdm(enumerate(train_loader), disable=False):\n",
        "        # load data input the device\n",
        "        y = y.to(device)\n",
        "\n",
        "        ##########################\n",
        "        ###### step 3.5.1. #######\n",
        "        ##########################\n",
        "        # run the network in forward net(y) to get y_hat and x_hat\n",
        "        y_hat, _= net(y)\n",
        "\n",
        "        ##########################\n",
        "        ####### step 3.5.2. ######\n",
        "        ##########################\n",
        "        # compute loss using the created criterion\n",
        "        loss = criterion(y, y_hat)\n",
        "        loss_all += float(loss.item())\n",
        "\n",
        "        ##########################\n",
        "        ####### step 3.5.3 #######\n",
        "        ##########################\n",
        "        # set the gradients in the optimizer to zero (optimizer.zero_grad())\n",
        "        optimizer.zero_grad()\n",
        "        # do backward on the loss\n",
        "        loss.backward()\n",
        "        # take a step with the optimizer\n",
        "        optimizer.step()\n",
        "\n",
        "        # normalize filters\n",
        "        net.normalize()\n",
        "\n",
        "        #err_h = compute_err_h(dataset.H, net.get_param(\"H\"))\n",
        "    print(\"Epoch [{}/{}]loss:{:.4f}\\n\".format(epoch+1,train_hyp[\"num_epochs\"],loss_all))"
      ]
    },
    {
      "cell_type": "code",
      "execution_count": 12,
      "id": "eb452829",
      "metadata": {
        "id": "eb452829",
        "colab": {
          "base_uri": "https://localhost:8080/",
          "height": 613
        },
        "outputId": "14018314-ea43-4cc8-e35a-82ce4b570895"
      },
      "outputs": [
        {
          "output_type": "display_data",
          "data": {
            "text/plain": [
              "<Figure size 2000x300 with 1 Axes>"
            ],
            "image/png": "[encoded data removed]"
          },
          "metadata": {}
        },
        {
          "output_type": "display_data",
          "data": {
            "text/plain": [
              "<Figure size 2000x300 with 1 Axes>"
            ],
            "image/png": "[encoded data removed]"
          },
          "metadata": {}
        }
      ],
      "source": [
        "##########################\n",
        "####### step 3.6. ########\n",
        "##########################\n",
        "yi = dataset[0:3]\n",
        "yi_hat, xi_hat = net(yi)\n",
        "\n",
        "# this function gets y and gives [h1 * x1, h2 * x2]\n",
        "#hx = net.separate(yi)\n",
        "\n",
        "# visualize the filters\n",
        "#vis_filter_est(dataset.H, H_init, net.get_param(\"H\"))\n",
        "\n",
        "# visualize the data\n",
        "vis_data_est(yi[1,0][4000:8000], yi_hat[1,0][4000:8000])\n",
        "\n",
        "# visualize Hx1 and Hx2\n",
        "#vis_data_separated_est(hx[0][0], hx[0][1])\n",
        "vis_data(xi_hat[1,0][4000:8000])\n",
        "#vis_data(yi_hat[0])"
      ]
    },
    {
      "cell_type": "code",
      "source": [
        "yi = dataset[0:3]\n",
        "vis_data(yi[1,0][0:500])"
      ],
      "metadata": {
        "colab": {
          "base_uri": "https://localhost:8080/",
          "height": 315
        },
        "id": "yy6ZLvF3OVqO",
        "outputId": "c846522d-8204-4011-acba-e6ccd653672d"
      },
      "id": "yy6ZLvF3OVqO",
      "execution_count": 8,
      "outputs": [
        {
          "output_type": "display_data",
          "data": {
            "text/plain": [
              "<Figure size 2000x300 with 1 Axes>"
            ],
            "image/png": "[encoded data removed]"
          },
          "metadata": {}
        }
      ]
    },
    {
      "cell_type": "code",
      "source": [
        "vis_filters(net.get_param(\"H\"))"
      ],
      "metadata": {
        "colab": {
          "base_uri": "https://localhost:8080/",
          "height": 256
        },
        "id": "QDpLEt6QkpsW",
        "outputId": "0afb6e87-80a3-4740-fe8c-7fb7d712fbbc"
      },
      "id": "QDpLEt6QkpsW",
      "execution_count": 13,
      "outputs": [
        {
          "output_type": "display_data",
          "data": {
            "text/plain": [
              "<Figure size 500x200 with 1 Axes>"
            ],
            "image/png": "[encoded data removed]"
          },
          "metadata": {}
        }
      ]
    },
    {
      "cell_type": "code",
      "source": [
        "with torch.no_grad():\n",
        "  yi = dataset[:]\n",
        "  yi_hat, xi_hat = net(yi)\n",
        "\n",
        "xi_hat = torch.nn.functional.pad(xi_hat, (0, 4))"
      ],
      "metadata": {
        "id": "JVi2HCLqUPej"
      },
      "id": "JVi2HCLqUPej",
      "execution_count": 70,
      "outputs": []
    },
    {
      "cell_type": "code",
      "source": [
        "class create_behave_dataset(Dataset):\n",
        "    def __init__(self, path,x,device):\n",
        "        self.B_data = scipy.io.loadmat(path)['BehaveData']['success'][0][0][0][0][2]\n",
        "        self.label = []\n",
        "        for i in range(len(self.B_data)):\n",
        "          self.label.append(self.B_data[i][0])\n",
        "        chunks = torch.split(x, len(self.label), dim=-1)\n",
        "\n",
        "        # Concatenating the chunks along the first dimension\n",
        "        output_tensor = torch.cat(chunks, dim=1)\n",
        "\n",
        "        self.data  = output_tensor.view(len(self.label), -1)\n",
        "\n",
        "    def __len__(self):\n",
        "        return len(self.label)\n",
        "\n",
        "    def __getitem__(self, idx):\n",
        "        return self.label[idx] , self.data[idx]\n",
        "\n",
        "# create dataset\n",
        "\n"
      ],
      "metadata": {
        "id": "lt5ngaJ6TZtB"
      },
      "id": "lt5ngaJ6TZtB",
      "execution_count": 71,
      "outputs": []
    },
    {
      "cell_type": "code",
      "source": [
        "from sklearn import svm\n",
        "from sklearn.model_selection import train_test_split\n",
        "from sklearn.metrics import accuracy_score\n",
        "from sklearn.linear_model import LogisticRegression\n",
        "\n",
        "\n",
        "dataset_behave = create_behave_dataset(r'./data.mat',yi,device = device)\n",
        "\n",
        "linear_accuracy = []\n",
        "poly_accuracy = []\n",
        "rbf_accuracy = []\n",
        "sigmoid_accuracy = []\n",
        "accuracy_lr = []\n",
        "\n",
        "X = dataset_behave.data.cpu()\n",
        "y = dataset_behave.label\n",
        "# Split the dataset into training and test sets\n",
        "for _ in range(10):\n",
        "  X_train, X_test, y_train, y_test = train_test_split(X, y, test_size=0.1)\n",
        "\n",
        "  # Create an SVM classifier\n",
        "  # Create SVM classifiers with different kernel functions\n",
        "  linear_svm = svm.SVC(kernel='linear')\n",
        "  poly_svm = svm.SVC(kernel='poly', degree=10)\n",
        "  rbf_svm = svm.SVC(kernel='rbf')\n",
        "  sigmoid_svm = svm.SVC(kernel='sigmoid')\n",
        "  lr_classifier = LogisticRegression()\n",
        "\n",
        "  # Train the classifiers\n",
        "  linear_svm.fit(X_train, y_train)\n",
        "  poly_svm.fit(X_train, y_train)\n",
        "  rbf_svm.fit(X_train, y_train)\n",
        "  sigmoid_svm.fit(X_train, y_train)\n",
        "  lr_classifier.fit(X_train, y_train)\n",
        "\n",
        "  # Make predictions on the test set\n",
        "  linear_pred = linear_svm.predict(X_test)\n",
        "  poly_pred = poly_svm.predict(X_test)\n",
        "  rbf_pred = rbf_svm.predict(X_test)\n",
        "  sigmoid_pred = sigmoid_svm.predict(X_test)\n",
        "  lr_pred = lr_classifier.predict(X_test)\n",
        "\n",
        "  # Evaluate the accuracies of the classifiers\n",
        "  linear_accuracy.append(accuracy_score(y_test, linear_pred))\n",
        "  poly_accuracy.append(accuracy_score(y_test, poly_pred))\n",
        "  rbf_accuracy.append(accuracy_score(y_test, rbf_pred))\n",
        "  sigmoid_accuracy.append(accuracy_score(y_test, sigmoid_pred))\n",
        "  accuracy_lr.append(accuracy_score(y_test, lr_pred))\n",
        "\n",
        "\n",
        "# Print the accuracies\n",
        "print(\"Accuracy without network\")\n",
        "print(\"Linear SVM Accuracy:\", np.mean(linear_accuracy))\n",
        "print(\"Polynomial SVM Accuracy:\", np.mean(poly_accuracy))\n",
        "print(\"RBF SVM Accuracy:\", np.mean(rbf_accuracy))\n",
        "print(\"Sigmoid SVM Accuracy:\", np.mean(sigmoid_accuracy))\n",
        "print(\"Logistic regression Accuracy:\", np.mean(accuracy_lr))"
      ],
      "metadata": {
        "colab": {
          "base_uri": "https://localhost:8080/"
        },
        "id": "qSu9LhWefz4K",
        "outputId": "04a655d9-f993-4dc5-ad1e-a7358a9719a4"
      },
      "id": "qSu9LhWefz4K",
      "execution_count": 116,
      "outputs": [
        {
          "output_type": "stream",
          "name": "stdout",
          "text": [
            "Accuracy without network\n",
            "Linear SVM Accuracy: 0.275\n",
            "Polynomial SVM Accuracy: 0.425\n",
            "RBF SVM Accuracy: 0.325\n",
            "Sigmoid SVM Accuracy: 0.35\n",
            "Logistic regression Accuracy: 0.3\n"
          ]
        }
      ]
    },
    {
      "cell_type": "code",
      "source": [
        "\n",
        "dataset_behave = create_behave_dataset(r'./data.mat',xi_hat,device = device)\n",
        "\n",
        "X = dataset_behave.data.cpu()\n",
        "y = dataset_behave.label\n",
        "# Split the dataset into training and test sets\n",
        "for _ in range(10):\n",
        "  X_train, X_test, y_train, y_test = train_test_split(X, y, test_size=0.1)\n",
        "\n",
        "  # Create an SVM classifier\n",
        "  # Create SVM classifiers with different kernel functions\n",
        "  linear_svm = svm.SVC(kernel='linear')\n",
        "  poly_svm = svm.SVC(kernel='poly', degree=10)\n",
        "  rbf_svm = svm.SVC(kernel='rbf')\n",
        "  sigmoid_svm = svm.SVC(kernel='sigmoid')\n",
        "  lr_classifier = LogisticRegression()\n",
        "\n",
        "  # Train the classifiers\n",
        "  linear_svm.fit(X_train, y_train)\n",
        "  poly_svm.fit(X_train, y_train)\n",
        "  rbf_svm.fit(X_train, y_train)\n",
        "  sigmoid_svm.fit(X_train, y_train)\n",
        "  lr_classifier.fit(X_train, y_train)\n",
        "\n",
        "  # Make predictions on the test set\n",
        "  linear_pred = linear_svm.predict(X_test)\n",
        "  poly_pred = poly_svm.predict(X_test)\n",
        "  rbf_pred = rbf_svm.predict(X_test)\n",
        "  sigmoid_pred = sigmoid_svm.predict(X_test)\n",
        "  lr_pred = lr_classifier.predict(X_test)\n",
        "\n",
        "  # Evaluate the accuracies of the classifiers\n",
        "  linear_accuracy.append(accuracy_score(y_test, linear_pred))\n",
        "  poly_accuracy.append(accuracy_score(y_test, poly_pred))\n",
        "  rbf_accuracy.append(accuracy_score(y_test, rbf_pred))\n",
        "  sigmoid_accuracy.append(accuracy_score(y_test, sigmoid_pred))\n",
        "  accuracy_lr.append(accuracy_score(y_test, lr_pred))\n",
        "\n",
        "\n",
        "# Print the accuracies\n",
        "print(\"Accuracy without network\")\n",
        "print(\"Linear SVM Accuracy:\", np.mean(linear_accuracy))\n",
        "print(\"Polynomial SVM Accuracy:\", np.mean(poly_accuracy))\n",
        "print(\"RBF SVM Accuracy:\", np.mean(rbf_accuracy))\n",
        "print(\"Sigmoid SVM Accuracy:\", np.mean(sigmoid_accuracy))\n",
        "print(\"Logistic regression Accuracy:\", np.mean(accuracy_lr))"
      ],
      "metadata": {
        "colab": {
          "base_uri": "https://localhost:8080/"
        },
        "id": "meVY_q0bZqEe",
        "outputId": "36628cbf-d8a6-4d8f-cdb4-1d1ee9035ebc"
      },
      "id": "meVY_q0bZqEe",
      "execution_count": 117,
      "outputs": [
        {
          "output_type": "stream",
          "name": "stdout",
          "text": [
            "Accuracy without network\n",
            "Linear SVM Accuracy: 0.3875\n",
            "Polynomial SVM Accuracy: 0.3375\n",
            "RBF SVM Accuracy: 0.275\n",
            "Sigmoid SVM Accuracy: 0.3\n",
            "Logistic regression Accuracy: 0.325\n"
          ]
        }
      ]
    },
    {
      "cell_type": "code",
      "source": [
        "dataset_behave = create_behave_dataset(r'./data.mat',yi_hat,device = device)\n",
        "\n",
        "X = dataset_behave.data.cpu()\n",
        "y = dataset_behave.label\n",
        "# Split the dataset into training and test sets\n",
        "for _ in range(10):\n",
        "  X_train, X_test, y_train, y_test = train_test_split(X, y, test_size=0.1)\n",
        "\n",
        "  # Create an SVM classifier\n",
        "  # Create SVM classifiers with different kernel functions\n",
        "  linear_svm = svm.SVC(kernel='linear')\n",
        "  poly_svm = svm.SVC(kernel='poly', degree=10)\n",
        "  rbf_svm = svm.SVC(kernel='rbf')\n",
        "  sigmoid_svm = svm.SVC(kernel='sigmoid')\n",
        "  lr_classifier = LogisticRegression()\n",
        "\n",
        "  # Train the classifiers\n",
        "  linear_svm.fit(X_train, y_train)\n",
        "  poly_svm.fit(X_train, y_train)\n",
        "  rbf_svm.fit(X_train, y_train)\n",
        "  sigmoid_svm.fit(X_train, y_train)\n",
        "  lr_classifier.fit(X_train, y_train)\n",
        "\n",
        "  # Make predictions on the test set\n",
        "  linear_pred = linear_svm.predict(X_test)\n",
        "  poly_pred = poly_svm.predict(X_test)\n",
        "  rbf_pred = rbf_svm.predict(X_test)\n",
        "  sigmoid_pred = sigmoid_svm.predict(X_test)\n",
        "  lr_pred = lr_classifier.predict(X_test)\n",
        "\n",
        "  # Evaluate the accuracies of the classifiers\n",
        "  linear_accuracy.append(accuracy_score(y_test, linear_pred))\n",
        "  poly_accuracy.append(accuracy_score(y_test, poly_pred))\n",
        "  rbf_accuracy.append(accuracy_score(y_test, rbf_pred))\n",
        "  sigmoid_accuracy.append(accuracy_score(y_test, sigmoid_pred))\n",
        "  accuracy_lr.append(accuracy_score(y_test, lr_pred))\n",
        "\n",
        "\n",
        "# Print the accuracies\n",
        "print(\"Accuracy without network\")\n",
        "print(\"Linear SVM Accuracy:\", np.mean(linear_accuracy))\n",
        "print(\"Polynomial SVM Accuracy:\", np.mean(poly_accuracy))\n",
        "print(\"RBF SVM Accuracy:\", np.mean(rbf_accuracy))\n",
        "print(\"Sigmoid SVM Accuracy:\", np.mean(sigmoid_accuracy))\n",
        "print(\"Logistic regression Accuracy:\", np.mean(accuracy_lr))"
      ],
      "metadata": {
        "colab": {
          "base_uri": "https://localhost:8080/"
        },
        "id": "S34FaCV8fqZr",
        "outputId": "8e3d6a03-26da-4b8d-9877-e2fc388ddace"
      },
      "id": "S34FaCV8fqZr",
      "execution_count": 118,
      "outputs": [
        {
          "output_type": "stream",
          "name": "stdout",
          "text": [
            "Accuracy without network\n",
            "Linear SVM Accuracy: 0.36666666666666664\n",
            "Polynomial SVM Accuracy: 0.35\n",
            "RBF SVM Accuracy: 0.30833333333333335\n",
            "Sigmoid SVM Accuracy: 0.3416666666666667\n",
            "Logistic regression Accuracy: 0.3\n"
          ]
        }
      ]
    },
    {
      "cell_type": "code",
      "source": [
        "print(sum(y)/len(y))"
      ],
      "metadata": {
        "colab": {
          "base_uri": "https://localhost:8080/"
        },
        "id": "93OUNYlihnkf",
        "outputId": "ca12e7c2-cca4-4b53-da69-c2f6574d9e5f"
      },
      "id": "93OUNYlihnkf",
      "execution_count": 88,
      "outputs": [
        {
          "output_type": "stream",
          "name": "stdout",
          "text": [
            "0.475\n"
          ]
        }
      ]
    },
    {
      "cell_type": "code",
      "source": [
        "import torch\n",
        "import torch.nn as nn\n",
        "import torch.optim as optim\n",
        "from sklearn.model_selection import train_test_split\n",
        "from sklearn.metrics import accuracy_score\n",
        "\n",
        "# Generate a synthetic classification dataset\n",
        "dataset_behave = create_behave_dataset(r'./data.mat',xi_hat,device = device)\n",
        "\n",
        "X = dataset_behave.data.cpu()\n",
        "y = dataset_behave.label\n",
        "\n",
        "\n",
        "# Define the neural network model\n",
        "class FC_Net(nn.Module):\n",
        "    def __init__(self):\n",
        "        super(FC_Net, self).__init__()\n",
        "        self.fc1 = nn.Linear(8280, 4140)\n",
        "        self.fc2 = nn.Linear(4140, 2000)\n",
        "        self.fc3 = nn.Linear(2000, 1000)\n",
        "        self.fc4 = nn.Linear(1000, 100)\n",
        "        self.fc5 = nn.Linear(100, 2)\n",
        "\n",
        "    def forward(self, x):\n",
        "        x = torch.relu(self.fc1(x))\n",
        "        x = torch.relu(self.fc2(x))\n",
        "        x = torch.relu(self.fc3(x))\n",
        "        x = torch.relu(self.fc4(x))\n",
        "        x = self.fc5(x)\n",
        "        return x\n",
        "\n",
        "\n",
        "for _ in range(10):\n",
        "  # Create an instance of the network\n",
        "  net = FC_Net()\n",
        "\n",
        "  # Define the loss function and optimizer\n",
        "  criterion = nn.CrossEntropyLoss()\n",
        "  optimizer = optim.Adam(net.parameters(), lr=0.001)\n",
        "  accuracy = []\n",
        "  # Train the network\n",
        "  num_epochs = 25\n",
        "  batch_size = 8\n",
        "  X_train, X_test, y_train, y_test = train_test_split(X, y, test_size=0.1)\n",
        "  X_train = torch.tensor(X_train, dtype=torch.float32)\n",
        "  y_train = torch.tensor(y_train, dtype=torch.long)\n",
        "  X_test = torch.tensor(X_test, dtype=torch.float32)\n",
        "  for epoch in range(num_epochs):\n",
        "    running_loss = 0.0\n",
        "\n",
        "    for i in range(0, len(X_train), batch_size):\n",
        "        inputs = X_train[i:i+batch_size]\n",
        "        labels = y_train[i:i+batch_size]\n",
        "\n",
        "        optimizer.zero_grad()\n",
        "\n",
        "        outputs = net(inputs)\n",
        "        loss = criterion(outputs, labels)\n",
        "        loss.backward()\n",
        "        optimizer.step()\n",
        "\n",
        "        running_loss += loss.item()\n",
        "\n",
        "    print(f\"Epoch {epoch+1}/{num_epochs}, Loss: {running_loss}\")\n",
        "\n",
        "    # Evaluate the network\n",
        "    with torch.no_grad():\n",
        "        net.eval()\n",
        "        outputs = net(X_test)\n",
        "        _, predicted = torch.max(outputs, 1)\n",
        "        predicted = predicted.numpy()\n",
        "\n",
        "    accuracy.append(accuracy_score(y_test, predicted))\n",
        "print(\"Accuracy:\", np.mean(accuracy))"
      ],
      "metadata": {
        "colab": {
          "base_uri": "https://localhost:8080/"
        },
        "id": "ZOqypMqDkDjJ",
        "outputId": "b0de7705-e08a-4f65-8f81-0cead012a346"
      },
      "id": "ZOqypMqDkDjJ",
      "execution_count": null,
      "outputs": [
        {
          "output_type": "stream",
          "name": "stderr",
          "text": [
            "<ipython-input-121-af245bfb4640>:45: UserWarning: To copy construct from a tensor, it is recommended to use sourceTensor.clone().detach() or sourceTensor.clone().detach().requires_grad_(True), rather than torch.tensor(sourceTensor).\n",
            "  X_train = torch.tensor(X_train, dtype=torch.float32)\n",
            "<ipython-input-121-af245bfb4640>:47: UserWarning: To copy construct from a tensor, it is recommended to use sourceTensor.clone().detach() or sourceTensor.clone().detach().requires_grad_(True), rather than torch.tensor(sourceTensor).\n",
            "  X_test = torch.tensor(X_test, dtype=torch.float32)\n"
          ]
        },
        {
          "output_type": "stream",
          "name": "stdout",
          "text": [
            "Epoch 1/25, Loss: 4.594711482524872\n",
            "Epoch 2/25, Loss: 3.134996235370636\n",
            "Epoch 3/25, Loss: 1.9201276898384094\n",
            "Epoch 4/25, Loss: 0.8415528759360313\n",
            "Epoch 5/25, Loss: 0.3496162183323577\n",
            "Epoch 6/25, Loss: 0.25297120581899435\n",
            "Epoch 7/25, Loss: 0.18705692142248065\n",
            "Epoch 8/25, Loss: 0.1273260861635208\n",
            "Epoch 9/25, Loss: 0.06365875992923975\n",
            "Epoch 10/25, Loss: 0.027662403997965157\n",
            "Epoch 11/25, Loss: 0.012335815947153606\n",
            "Epoch 12/25, Loss: 0.005623358749289764\n",
            "Epoch 13/25, Loss: 0.002808142957292148\n",
            "Epoch 14/25, Loss: 0.001605106730494299\n",
            "Epoch 15/25, Loss: 0.0010528397097004927\n",
            "Epoch 16/25, Loss: 0.0007614497055783431\n",
            "Epoch 17/25, Loss: 0.0005955262269026207\n"
          ]
        }
      ]
    },
    {
      "cell_type": "code",
      "source": [
        "# Generate a synthetic classification dataset\n",
        "dataset_behave = create_behave_dataset(r'./data.mat',yi_hat,device = device)\n",
        "\n",
        "X = dataset_behave.data.cpu()\n",
        "y = dataset_behave.label\n",
        "\n",
        "\n",
        "for _ in range(10):\n",
        "  # Create an instance of the network\n",
        "  net = FC_Net()\n",
        "\n",
        "  # Define the loss function and optimizer\n",
        "  criterion = nn.CrossEntropyLoss()\n",
        "  optimizer = optim.Adam(net.parameters(), lr=0.001)\n",
        "  accuracy = []\n",
        "  # Train the network\n",
        "  num_epochs = 25\n",
        "  batch_size = 8\n",
        "  X_train, X_test, y_train, y_test = train_test_split(X, y, test_size=0.1)\n",
        "  X_train = torch.tensor(X_train, dtype=torch.float32)\n",
        "  y_train = torch.tensor(y_train, dtype=torch.long)\n",
        "  X_test = torch.tensor(X_test, dtype=torch.float32)\n",
        "  for epoch in range(num_epochs):\n",
        "    running_loss = 0.0\n",
        "\n",
        "    for i in range(0, len(X_train), batch_size):\n",
        "        inputs = X_train[i:i+batch_size]\n",
        "        labels = y_train[i:i+batch_size]\n",
        "\n",
        "        optimizer.zero_grad()\n",
        "\n",
        "        outputs = net(inputs)\n",
        "        loss = criterion(outputs, labels)\n",
        "        loss.backward()\n",
        "        optimizer.step()\n",
        "\n",
        "        running_loss += loss.item()\n",
        "\n",
        "    print(f\"Epoch {epoch+1}/{num_epochs}, Loss: {running_loss}\")\n",
        "\n",
        "    # Evaluate the network\n",
        "    with torch.no_grad():\n",
        "        net.eval()\n",
        "        outputs = net(X_test)\n",
        "        _, predicted = torch.max(outputs, 1)\n",
        "        predicted = predicted.numpy()\n",
        "\n",
        "    accuracy.append(accuracy_score(y_test, predicted))\n",
        "print(\"Accuracy:\", np.mean(accuracy))"
      ],
      "metadata": {
        "id": "rDaz3N4FvJ8d"
      },
      "id": "rDaz3N4FvJ8d",
      "execution_count": null,
      "outputs": []
    },
    {
      "cell_type": "code",
      "source": [
        "# Generate a synthetic classification dataset\n",
        "dataset_behave = create_behave_dataset(r'./data.mat',yi,device = device)\n",
        "\n",
        "X = dataset_behave.data.cpu()\n",
        "y = dataset_behave.label\n",
        "\n",
        "for _ in range(10):\n",
        "  # Create an instance of the network\n",
        "  net = FC_Net()\n",
        "\n",
        "  # Define the loss function and optimizer\n",
        "  criterion = nn.CrossEntropyLoss()\n",
        "  optimizer = optim.Adam(net.parameters(), lr=0.001)\n",
        "  accuracy = []\n",
        "  # Train the network\n",
        "  num_epochs = 25\n",
        "  batch_size = 8\n",
        "  X_train, X_test, y_train, y_test = train_test_split(X, y, test_size=0.1)\n",
        "  X_train = torch.tensor(X_train, dtype=torch.float32)\n",
        "  y_train = torch.tensor(y_train, dtype=torch.long)\n",
        "  X_test = torch.tensor(X_test, dtype=torch.float32)\n",
        "  for epoch in range(num_epochs):\n",
        "    running_loss = 0.0\n",
        "\n",
        "    for i in range(0, len(X_train), batch_size):\n",
        "        inputs = X_train[i:i+batch_size]\n",
        "        labels = y_train[i:i+batch_size]\n",
        "\n",
        "        optimizer.zero_grad()\n",
        "\n",
        "        outputs = net(inputs)\n",
        "        loss = criterion(outputs, labels)\n",
        "        loss.backward()\n",
        "        optimizer.step()\n",
        "\n",
        "        running_loss += loss.item()\n",
        "\n",
        "    print(f\"Epoch {epoch+1}/{num_epochs}, Loss: {running_loss}\")\n",
        "\n",
        "    # Evaluate the network\n",
        "    with torch.no_grad():\n",
        "        net.eval()\n",
        "        outputs = net(X_test)\n",
        "        _, predicted = torch.max(outputs, 1)\n",
        "        predicted = predicted.numpy()\n",
        "\n",
        "    accuracy.append(accuracy_score(y_test, predicted))\n",
        "print(\"Accuracy:\", np.mean(accuracy))"
      ],
      "metadata": {
        "id": "Jhd9buh2vMTR"
      },
      "id": "Jhd9buh2vMTR",
      "execution_count": null,
      "outputs": []
    }
  ],
  "metadata": {
    "kernelspec": {
      "display_name": "Python 3 (ipykernel)",
      "language": "python",
      "name": "python3"
    },
    "language_info": {
      "codemirror_mode": {
        "name": "ipython",
        "version": 3
      },
      "file_extension": ".py",
      "mimetype": "text/x-python",
      "name": "python",
      "nbconvert_exporter": "python",
      "pygments_lexer": "ipython3",
      "version": "3.10.11"
    },
    "colab": {
      "provenance": [],
      "gpuType": "T4"
    },
    "accelerator": "GPU",
    "gpuClass": "standard"
  },
  "nbformat": 4,
  "nbformat_minor": 5
}