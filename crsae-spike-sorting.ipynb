{
 "cells": [
  {
   "cell_type": "markdown",
   "metadata": {
    "colab_type": "text",
    "id": "7WDgTsK55eHt"
   },
   "source": [
    "# Tutorial 1 - Spike Sorting with Autoencoders"
   ]
  },
  {
   "cell_type": "markdown",
   "metadata": {
    "colab_type": "text",
    "id": "rsDYDMTpEkOY"
   },
   "source": [
    "This tutorial is based on the following two papers:\n",
    "\n",
    "B. Tolooshams, S. Dey, and D. Ba, \"[Scalable convolutional dictionary learning with constrained recurrent sparse auto-encoders](https://arxiv.org/abs/1807.04734),\" in *Proc. IEEE 28th International Workshop on Machine Learning for Signal Processing (MLSP)*, 2018.\n",
    "\n",
    "B. Tolooshams, S. Dey, and D. Ba, \"[Deep residual auto-encoders for expectation maximization-inspired dictionary learning](https:/https://arxiv.org/abs/1904.08827/),\" *IEEE Transactions on Neural Networks and Learning Systems*, 2020.\n",
    "\n",
    "![Spike Sorting with CRsAE](https://github.com/btolooshams/crsae/raw/master/pytorch/tutorials/figures/crsae-overview.png)"
   ]
  },
  {
   "cell_type": "markdown",
   "metadata": {
    "colab_type": "text",
    "id": "-X17roZV5emn"
   },
   "source": [
    "---\n",
    "\n",
    "## Tutorial objectives \n",
    "\n",
    "In this notebook, we learn about autoencoders and spike sorting. That is, how an autoencoder can perform spike sorting on raw electrophysiological recordings from neural activity in the brain. Spike sorting is the procedure to identify the location of action potentials from individual neurons in the recordings.\n",
    "\n",
    "\n",
    "\n",
    "\n",
    " - Faimilarize to a model underlying electrophysiological recordings. \n",
    " - Build an autoenocder based on the generative model.\n",
    " - Simulate raw electrophysiological recordings.\n",
    " - Train the autoencoder to learn action potentials and estimate location of each.\n",
    " - Spike sorting on Harris dataset.\n",
    "\n"
   ]
  },
  {
   "cell_type": "markdown",
   "metadata": {
    "colab_type": "text",
    "id": "i5L1yMo8Es4q"
   },
   "source": [
    "---\n",
    "## Imports and helper functions\n",
    "\n",
    "Please execute the cell below to initialize the notebook environment"
   ]
  },
  {
   "cell_type": "code",
   "metadata": {
    "cellView": "form",
    "colab": {},
    "colab_type": "code",
    "executionInfo": {
     "elapsed": 1523,
     "status": "ok",
     "timestamp": 1593568559306,
     "user": {
      "displayName": "Bahareh Tolooshams",
      "photoUrl": "",
      "userId": "15522789545155511215"
     },
     "user_tz": 240
    },
    "id": "LybO5Lfh4LLf",
    "ExecuteTime": {
     "end_time": "2024-04-16T14:22:03.668661Z",
     "start_time": "2024-04-16T14:22:03.633254Z"
    }
   },
   "source": [
    "# @title\n",
    "import os \n",
    "from pathlib import Path\n",
    "import torch\n",
    "import torch.nn.functional as F\n",
    "import numpy as np                 # import numpy\n",
    "import matplotlib.pyplot as plt    # import matplotlib\n",
    "from torch.utils.data import Dataset, DataLoader\n",
    "import torch.optim as optim\n",
    "from tqdm import tqdm\n",
    "import h5py\n",
    "import scipy\n",
    "from scipy.signal import find_peaks\n",
    "from IPython.display import Image\n",
    "\n",
    "use_cuda = torch.cuda.is_available()\n",
    "device = torch.device(\"cuda:0\" if use_cuda else \"cpu\")"
   ],
   "outputs": [],
   "execution_count": 32
  },
  {
   "cell_type": "code",
   "metadata": {
    "ExecuteTime": {
     "end_time": "2024-04-16T14:22:03.856292Z",
     "start_time": "2024-04-16T14:22:03.828715Z"
    }
   },
   "source": "data_dir = Path(\"../crsae/pytorch/tutorials/data\")",
   "outputs": [],
   "execution_count": 33
  },
  {
   "cell_type": "code",
   "metadata": {
    "cellView": "form",
    "colab": {},
    "colab_type": "code",
    "executionInfo": {
     "elapsed": 1212,
     "status": "ok",
     "timestamp": 1593569237451,
     "user": {
      "displayName": "Bahareh Tolooshams",
      "photoUrl": "",
      "userId": "15522789545155511215"
     },
     "user_tz": 240
    },
    "id": "lsr4lTgO5b38",
    "ExecuteTime": {
     "end_time": "2024-04-16T14:25:41.258644Z",
     "start_time": "2024-04-16T14:25:41.225227Z"
    }
   },
   "source": [
    "#@title\n",
    "def vis_code(x):\n",
    "    x = x.clone().detach().cpu().numpy()\n",
    "    color = [\"b\", \"r\"]\n",
    "    plt.figure(figsize=(20,3))\n",
    "    for c in range(x.shape[0]):\n",
    "        xc = x[c,:]\n",
    "        nz_x = np.where(xc>0)[0]\n",
    "        plt.plot(np.zeros(xc.shape), \"black\")\n",
    "        plt.stem(nz_x, xc[nz_x], label=\"x{}\".format(c+1), linefmt=\"{}\".format(color[c]), markerfmt=\"o{}\".format(color[c]), basefmt=\"black\")\n",
    "        plt.legend()\n",
    "        plt.xlabel(\"Time [ms]\")\n",
    "    return\n",
    "\n",
    "def vis_code_est(x, xhat):\n",
    "    x = x.clone().detach().cpu().numpy()\n",
    "    xhat = xhat.clone().detach().cpu().numpy()\n",
    "    color = [\"b\", \"r\"]\n",
    "    plt.figure(figsize=(20,3))\n",
    "    \n",
    "    for c in range(x.shape[0]):\n",
    "        xc = x[c,:]\n",
    "        nz_x = np.where(xc>0)[0]\n",
    "        plt.plot(np.zeros(xc.shape), \"black\")\n",
    "        plt.stem(nz_x, xc[nz_x], label=\"x{}\".format(c+1), linefmt=\"black\", markerfmt=\"o{}\".format(color[c]), basefmt=\"black\", use_line_collection=True)\n",
    "        xchat = xhat[c,:]\n",
    "        nz_xhat = np.where(xchat>0)[0]\n",
    "        plt.stem(nz_xhat, xchat[nz_xhat], label=\"xhat{}\".format(c+1), linefmt=\"-.{}\".format(color[c]), markerfmt=\"*{}\".format(color[c]), basefmt=\"black\", use_line_collection=True)\n",
    "        plt.legend()\n",
    "        plt.title(\"x\")\n",
    "        plt.legend()\n",
    "        plt.xlabel(\"Time [ms]\")\n",
    "    return\n",
    "\n",
    "def vis_filters(h):\n",
    "    h = h.clone().detach().cpu().numpy()\n",
    "    color = [\"b\", \"r\"]\n",
    "    plt.figure(figsize=(5,2))\n",
    "    for c in range(h.shape[0]):\n",
    "        plt.plot(h[c,0,:], label=\"true\", color=color[c])\n",
    "    plt.title(\"h\")\n",
    "    plt.xlabel(\"Time [ms]\")\n",
    "    return\n",
    "\n",
    "def vis_filter_est(h, h_init, h_hat):\n",
    "    if h is not None:\n",
    "      h = h.clone().detach().cpu().numpy()\n",
    "    h_init = h_init.clone().detach().cpu().numpy()\n",
    "    h_hat = h_hat.clone().detach().cpu().numpy()\n",
    "    color = [\"b\", \"r\"]\n",
    "    plt.figure(figsize=(15,3))\n",
    "    for c in range(h_init.shape[0]):\n",
    "        plt.subplot(1,h_init.shape[0],c+1)\n",
    "        if h is not None:\n",
    "          plt.plot(h[c,0,:], label=\"true\", color=\"black\")\n",
    "        plt.plot(h_init[c,0,:], \"--\", label=\"init\", color=\"gray\")\n",
    "        plt.plot(h_hat[c,0,:], label=\"est\", color=color[c])\n",
    "        plt.title(\"h{}\".format(c+1))\n",
    "        plt.xlabel(\"Time [ms]\")\n",
    "        plt.legend()\n",
    "    return\n",
    "\n",
    "def vis_data(y):\n",
    "    y = y.clone().detach().cpu().numpy()\n",
    "    plt.figure(figsize=(20,3))\n",
    "    plt.plot(y[0], label=\"raw\", color=\"black\")\n",
    "    plt.title(\"y\")\n",
    "    plt.xlabel(\"Time [ms]\")\n",
    "    plt.legend()\n",
    "    return\n",
    "    \n",
    "def vis_data_est(y,y_hat):\n",
    "    y = y.clone().detach().cpu().numpy()\n",
    "    y_hat = y_hat.clone().detach().cpu().numpy()\n",
    "    plt.figure(figsize=(20,3))\n",
    "    plt.plot(y[0], label=\"raw\", color=\"black\")\n",
    "    plt.plot(y_hat[0], label=\"denoised\", color=\"orange\")\n",
    "    plt.title(\"y\")\n",
    "    plt.xlabel(\"Time [ms]\")\n",
    "    plt.legend()\n",
    "    return\n",
    "    \n",
    "def vis_data_separated_est(hx1,hx2):\n",
    "    hx1 = hx1.clone().detach().cpu().numpy()\n",
    "    hx2 = hx2.clone().detach().cpu().numpy()\n",
    "    color = [\"b\", \"r\"]\n",
    "    plt.figure(figsize=(20,3))\n",
    "    plt.plot(hx1, label=\"1\", color=color[0])\n",
    "    plt.plot(hx2, label=\"2\", color=color[1])\n",
    "    plt.title(\"y\")\n",
    "    plt.xlabel(\"Time [ms]\")\n",
    "    plt.legend()\n",
    "\n",
    "def vis_miss_false(missed_per_list, false_per_list):\n",
    "  plt.figure(figsize=(10,5))\n",
    "  plt.plot(missed_per_list, false_per_list, color=\"black\", label=\"CRsAE\")\n",
    "  plt.xlabel(\"True Miss [%]\")\n",
    "  plt.ylabel(\"False Alarm [%]\")\n",
    "  plt.ylim(0,1.1*np.max(false_per_list))\n",
    "  plt.xlim(0,1.1*np.max(missed_per_list))  \n",
    "  plt.legend()\n",
    "  return\n",
    "\n",
    "\n",
    "def load_filters(device):\n",
    "    return torch.load(data_dir/\"h_sim_2.pt\", map_location=device)\n",
    "\n",
    "\n",
    "def load_h_init_harris(device):\n",
    "    return torch.load(data_dir/\"h_init_harris.pt\", map_location=device)\n",
    "\n",
    "def load_y_harris(device):\n",
    "    return torch.load(data_dir/\"y_harris.pt\", map_location=device)\n",
    "\n",
    "def load_y_series_harris(device):\n",
    "    return torch.load(data_dir/\"y_series_harris.pt\").to(device)\n",
    "\n",
    "# create distance measure for dictionary\n",
    "def compute_err_h(h, h_hat):\n",
    "    h = h.clone().detach()\n",
    "    h_hat = h_hat.clone().detach()\n",
    "\n",
    "    err = torch.zeros(h.shape[0])\n",
    "    for c in range(h.shape[0]):\n",
    "        corr = torch.sum(h[c, 0, :] * h_hat[c, 0, :])\n",
    "        err[c] = torch.sqrt(torch.abs(1 - corr) ** 2)\n",
    "    return err\n",
    "\n",
    "def initialize_filter(H):\n",
    "  flag = 1\n",
    "  while flag:\n",
    "    H_init = H + 0.4 * torch.randn(H.shape, device=device)\n",
    "    H_init = F.normalize(H_init, p=2, dim=-1)\n",
    "    if torch.max(compute_err_h(H, H_init)) < 0.5:\n",
    "      if torch.min(compute_err_h(H, H_init)) > 0.4:\n",
    "        flag = 0\n",
    "\n",
    "  return H_init"
   ],
   "outputs": [],
   "execution_count": 56
  },
  {
   "cell_type": "markdown",
   "metadata": {
    "colab_type": "text",
    "id": "7ckUEqdu6Ian"
   },
   "source": [
    "---\n",
    "## Convolutional Generative Model\n",
    "\n",
    "The model assumes that the data (electrophysiological recordings) is generated as fallowing\n",
    "\n",
    "$$\\textbf{y} = \\sum_{c=1}^C \\textbf{h}_c * \\textbf{x}_c + \\mathbf{v} \\in \\mathbb{R}^N$$\n",
    "\n",
    "$*$: convolution operator (more [info](https://en.wikipedia.org/wiki/Convolution)).\n",
    "\n",
    "$N$: length of the time-series (voltage recording) in discrete.\n",
    "\n",
    "$C$: number of neurons.\n",
    "\n",
    "$s$: number of appearance of each neuron.\n",
    "\n",
    "$\\mathbf{y} \\in \\mathbb{R}^N$: electrophysiological recordings (data).\n",
    "\n",
    "$\\mathbf{h}_c \\in \\mathbb{R}^K$: shape of the action potentials from neuron $c$ with length $K$ (filters).\n",
    "\n",
    "$\\mathbf{x_c} \\in \\mathbb{R}^{N-K+1}$: a $s$-sparse code vector encoding the starting appearance of action potentials and its amplitude from neuron $c$ (sparse code).\n",
    "\n",
    "$\\mathbf{v} \\in \\mathbb{R}^N$: is i.i.d. Gaussian noise .\n",
    "\n",
    "Convolution is a *linear* operator, hence we can write the model as follows:\n",
    "\n",
    "$$\\textbf{y} = \\mathbf{H} \\mathbf{x} + \\mathbf{v}$$\n",
    "\n",
    "$\\mathbf{H}$: a convolutional dictinoary corresponding to all the filters (action potentials).\n",
    "\n",
    "$\\mathbf{x}$: a sparse code encoding location appearance of all neurons. "
   ]
  },
  {
   "cell_type": "markdown",
   "metadata": {
    "colab_type": "text",
    "id": "yTlDzIMQ6NzW"
   },
   "source": [
    "---\n",
    "## Convolutional Dicitonary Learning (CDL)\n",
    "\n",
    "Given only a set of observations $\\{\\mathbf{y}^j\\}_{j=1}^J$, CDL aims to learn $\\mathbf{H}$ and $\\{\\mathbf{x}^j\\}_{j=1}^J$ by solving the following optimization problem\n",
    "\n",
    "$$\n",
    "\\min_{\\{\\mathbf{x}^j\\}_{j=1}^J, \\mathbf{H} } \\sum_{j=1}^J \\frac{1}{2} \\| \\mathbf{y}^j - \\mathbf{H} \\mathbf{x}^j \\|_2^2 + \\lambda \\| \\mathbf{x}^j \\|_1\\\\\n",
    "\\text{s.t.}\\ \\| \\mathbf{h}_c \\|_2 \\leq 1\\ \\text{for}\\ c=1,\\ldots,C,\n",
    "$$\n",
    "\n",
    "where $\\lambda$ controls the degree of sparsity and is also a function of the background noise. Having a large noise level, you may increase $\\lambda$ for better performance.\n",
    "\n",
    "CDL can be solved by alternating between two steps which are:\n",
    "\n",
    " - convolutional sparse coding (CSC): given an estimate of $\\mathbf{H}$, estimate the code $\\mathbf{x}$.\n",
    " - convolutional dicitonary update: given the newly estimated $\\mathbf{x}$, re-estimate $\\mathbf{H}$."
   ]
  },
  {
   "cell_type": "markdown",
   "metadata": {
    "colab_type": "text",
    "id": "8SgnO8pj6N_D"
   },
   "source": [
    "\n",
    "---\n",
    "## Constrained Recurrent Sparse Autoencoder (CRsAE)\n",
    "\n",
    "We build an autoencoder to solve CDL.\n",
    "\n",
    " - Encoder:\n",
    "   - solves CSC ($\n",
    "\\min_{\\mathbf{x}^j} \\frac{1}{2} \\| \\mathbf{y}^j - \\mathbf{H} \\mathbf{x}^j \\|_2^2 + \\lambda \\| \\mathbf{x}^j \\|_1$) through an iterative proximal gradient algorithm with $T$ recurrent steps.\n",
    "   - maps $\\mathbf{y}$ into $\\mathbf{x}$.\n",
    "   - is a nonlinear unfolded/recurrent neural network.\n",
    "   - has a recurrent step: $\\mathbf{x}_t = \\color{orange}{ReLU_{\\frac{\\lambda}{L}}}(\\mathbf{x}_{t-1} + \\frac{1}{L} \\mathbf{H}^{\\text{T}} (\\mathbf{y} - \\mathbf{H} \\mathbf{x}_{t-1}))$ if using ISTA.\n",
    "   - ReLU is definted as $\\text{ReLU}_{b}(\\mathbf{z})=(\\mathbf{z}-b)\\cdot\\mathbf{1}_{\\{\\mathbf{z}\\geq b\\}}$\n",
    " - Decoder:\n",
    "   - maps the output of the encoder into an estimate of the input.\n",
    "   - is a linear decoder $\\color{blue}{\\hat{\\mathbf{y}} = \\mathbf{H} \\mathbf{x}_T}$.\n",
    "\n",
    "Given an estimate of the action potentials, the *forward pass* of the encoder estimates the location of the appearance of the action potential.\n",
    "\n",
    "The *backward pass* of the autoencoder estimates the shape of action potentials by minimizing reconstruction loss.\n",
    "\n",
    "CRsAE with ISTA encoder is shown below (for more info, look into Eq. (3.1) in [this paper](https://people.rennes.inria.fr/Cedric.Herzet/Cedric.Herzet/Sparse_Seminar/Entrees/2012/11/12_A_Fast_Iterative_Shrinkage-Thresholding_Algorithmfor_Linear_Inverse_Problems_(A._Beck,_M._Teboulle)_files/Breck_2009.pdf) implements ISTA.\n",
    "\n",
    "![CRsAE with ISTA](https://github.com/btolooshams/crsae/raw/master/pytorch/tutorials//figures/crsae-ista.png)\n",
    "\n",
    "CRsAE with FISTA encoder is shown below (for more info, look into Eq. (4.1-3) in [this paper](https://people.rennes.inria.fr/Cedric.Herzet/Cedric.Herzet/Sparse_Seminar/Entrees/2012/11/12_A_Fast_Iterative_Shrinkage-Thresholding_Algorithmfor_Linear_Inverse_Problems_(A._Beck,_M._Teboulle)_files/Breck_2009.pdf) implements FISTA.\n",
    "\n",
    "![CRsAE with FISTA](https://github.com/btolooshams/crsae/raw/master/pytorch/tutorials/figures/crsae-ista.png)\n",
    "\n",
    "where $g(\\mathbf{x}_t) = (\\mathbf{I} - \\frac{1}{L}\\mathbf{H}^{\\text{T}}\\mathbf{H})(\\mathbf{x}_t + \\frac{s_t - 1}{s_{t+1}}(\\mathbf{x}_t - \\mathbf{x}_{t-1}))$, and $s_{t+1} = \\frac{1 + \\sqrt{1 + 4 s_t^2}}{2}$"
   ]
  },
  {
   "cell_type": "markdown",
   "metadata": {
    "colab_type": "text",
    "id": "YeflAHJ7uoD2"
   },
   "source": [
    "---\n",
    "## Spike Sorting\n",
    "\n",
    "Given CRsAE, for spike sorting, all you need to do is to pre-define the number of neurons, $C$, you estimate that are present in the dataset. Upon training, you can reconstruct the activity of neuron $c$ by accessing the filter $\\mathbf{h}_c$ from the network and convolve it with the corresponding code (i.e., $\\mathbf{h}_c * \\mathbf{x}_c$)."
   ]
  },
  {
   "cell_type": "markdown",
   "metadata": {
    "colab_type": "text",
    "id": "ft8fVclW6OHj"
   },
   "source": [
    "---\n",
    "## EXERCISE 1: Build CRsAE (FISTA version)\n",
    "\n"
   ]
  },
  {
   "cell_type": "markdown",
   "metadata": {
    "colab_type": "text",
    "id": "cRrTn-iB7m12"
   },
   "source": [
    "####1.1. Filter initialization\n",
    "\n",
    "Initialize the filter $\\mathbf{H}$ in pytorch with the dimension (number of filters, 1, length of the filter)\n"
   ]
  },
  {
   "cell_type": "markdown",
   "metadata": {
    "colab_type": "text",
    "id": "4QE2MRAc7uD8"
   },
   "source": [
    "###1.2. ReLU\n",
    "\n",
    "Set self.relu to be the ReLU operator (i.e., torch.nn has the functionality).\n"
   ]
  },
  {
   "cell_type": "markdown",
   "metadata": {
    "colab_type": "text",
    "id": "Impigp977vwe"
   },
   "source": [
    "###1.3. Convolution $\\mathbf{H}$\n",
    "\n",
    "Implement the convolution operator ($\\mathbf{H}$) with pytorch in the function **H_operator** inside the **CRsAE1D** class (i.e., *F.conv_transpose1d* implements this, and you should use *self.get_param(\"H\")* to get the filters).\n"
   ]
  },
  {
   "cell_type": "markdown",
   "metadata": {
    "colab_type": "text",
    "id": "zikHtboL7vq8"
   },
   "source": [
    "###1.4. Correlation $\\mathbf{H}^{\\text{T}}$\n",
    "\n",
    "Implement the corelation operator ($\\mathbf{H}^{\\text{T}}$) with pytorch in the function **HT_operator** inside the **CRsAE1D** class (i.e., *F.conv1d* implements this, and you should use *self.get_param(\"H\")* to get the filters).\n"
   ]
  },
  {
   "cell_type": "markdown",
   "metadata": {
    "colab_type": "text",
    "id": "LglhYsXp7vkp"
   },
   "source": [
    "###1.5. Encoder\n",
    "\n",
    "Using the fuctions from 3 and 4, implement the function **encoder** inside the **CRsAE1D** class (more detailed inside the function).\n",
    "\n"
   ]
  },
  {
   "cell_type": "markdown",
   "metadata": {
    "colab_type": "text",
    "id": "UEXgXNzw7vUQ"
   },
   "source": [
    "###1.6. Decoder\n",
    "\n",
    "Implement the decoder in **decoder** function in the **CRsAE1D** class (i.e., decoder is $\\mathbf{H} \\mathbf{x}_T$).\n",
    "\n"
   ]
  },
  {
   "cell_type": "markdown",
   "metadata": {
    "colab_type": "text",
    "id": "f_XdP2tO7vKd"
   },
   "source": [
    "###1.7. Forward\n",
    "\n",
    "See how enocder and decoder are use in the **forward** function to map $\\mathbf{y}$ into $\\hat{\\mathbf{y}}$ (note that forward is the default function when using the model in pytorch).\n"
   ]
  },
  {
   "cell_type": "markdown",
   "metadata": {
    "colab_type": "text",
    "id": "cBFb4wdO7umi"
   },
   "source": [
    "###1.8. Create network\n",
    "\n",
    "See how you can create a dictionary of hyperparameters and the network (object) from the CRsAE model (class)."
   ]
  },
  {
   "cell_type": "code",
   "metadata": {
    "cellView": "both",
    "colab": {},
    "colab_type": "code",
    "id": "QQyuDtGelD0X",
    "ExecuteTime": {
     "end_time": "2024-04-16T14:25:09.894679Z",
     "start_time": "2024-04-16T14:25:09.878650Z"
    }
   },
   "source": [
    "class CRsAE1D(torch.nn.Module):\n",
    "    def __init__(self, hyp, H=None):\n",
    "        super(CRsAE1D, self).__init__()\n",
    "\n",
    "        self.T = hyp[\"T\"]            # number of encoder unfolding\n",
    "        self.L = hyp[\"L\"]            # 1/L is the step size in the encoder\n",
    "        self.C = hyp[\"C\"]            # number of filters\n",
    "        self.K = hyp[\"K\"]            # legnth of the filters\n",
    "        self.lam = hyp[\"lam\"]        # lambda (regularization parameter)\n",
    "        self.device = hyp[\"device\"]  # device (i.e., cpu, cuda0)\n",
    "       \n",
    "        # initialize the filter H\n",
    "        if H is None:\n",
    "            # initialize with random normal\n",
    "            H = torch.randn((self.C, 1, self.K), device=self.device)\n",
    "            # normalize that each filter has norm 1\n",
    "            H = F.normalize(H, p=2, dim=-1)\n",
    "        # register the filters as weights of\n",
    "        # the neural network so that to be trainable.\n",
    "        self.register_parameter(\"H\", torch.nn.Parameter(H))\n",
    "        # create ReLU\n",
    "        self.relu = torch.nn.ReLU()\n",
    "\n",
    "    def get_param(self, name):\n",
    "        # get parameters with name\n",
    "        return self.state_dict(keep_vars=True)[name]\n",
    "\n",
    "    def normalize(self):\n",
    "        # normalize the filters\n",
    "        self.get_param(\"H\").data = F.normalize(self.get_param(\"H\").data, p=2, dim=-1)\n",
    "\n",
    "    def H_operator(self, x):\n",
    "        return F.conv_transpose1d(x, self.get_param(\"H\"))\n",
    "\n",
    "    def HT_operator(self, x):\n",
    "        return F.conv1d(x, self.get_param(\"H\"))\n",
    "\n",
    "    def encoder(self, y):\n",
    "        enc_dim = F.conv1d(y, self.get_param(\"H\")).shape[-1]\n",
    "\n",
    "        x_old = torch.zeros(y.shape[0], self.C, enc_dim, device=self.device)\n",
    "        x_tmp = torch.zeros(y.shape[0], self.C, enc_dim, device=self.device)\n",
    "        x_new = torch.zeros(y.shape[0], self.C, enc_dim, device=self.device)\n",
    "        s_old = torch.tensor(1, device=self.device).float() \n",
    "           \n",
    "        # T recurrent steps\n",
    "        for t in range(self.T):  \n",
    "            res = y - self.H_operator(x_tmp)\n",
    "\n",
    "            x_new = x_tmp + self.HT_operator(res) / self.L\n",
    "\n",
    "            x_new = self.relu(x_new - self.lam / self.L)\n",
    "            \n",
    "            s_new = (1 + torch.sqrt(1 + 4 * s_old * s_old)) / 2\n",
    "            x_tmp = x_new + (s_old - 1) / s_new * (x_new - x_old)\n",
    "\n",
    "            x_old = x_new\n",
    "            s_old = s_new\n",
    "        return x_new\n",
    "\n",
    "    def decoder(self, x):\n",
    "        return F.conv_transpose1d(x, self.get_param(\"H\"))\n",
    "        \n",
    "    def forward(self, y):\n",
    "        # encoder\n",
    "        x = self.encoder(y)\n",
    "        # decoder\n",
    "        y_hat = self.decoder(x)\n",
    "        return y_hat, x\n",
    "    \n",
    "    def separate(self,y):\n",
    "        with torch.no_grad():\n",
    "            # encoder\n",
    "            x = self.encoder(y)\n",
    "\n",
    "            hx_separate = torch.zeros((y.shape[0], self.C, y.shape[-1]), device=self.device)\n",
    "            for c in range(self.C):\n",
    "                xc = torch.unsqueeze(x[:,c,:], dim=1)\n",
    "                hc = torch.unsqueeze(self.get_param(\"H\")[c,:,:],dim=0)\n",
    "                hx_separate[:,c,:] =  torch.squeeze(F.conv_transpose1d(xc, hc),dim=1)\n",
    "                \n",
    "        return hx_separate\n",
    "\n",
    "# network parameters\n",
    "net_hyp_debug = {\"T\": 200, \"L\": 15, \"C\": 4, \"K\": 18, \"lam\": 20, \"device\": device}\n",
    "# create network\n",
    "net_test = CRsAE1D(net_hyp_debug)"
   ],
   "outputs": [],
   "execution_count": 51
  },
  {
   "cell_type": "markdown",
   "metadata": {
    "colab_type": "text",
    "id": "o2gNStrC6OKv"
   },
   "source": [
    "---\n",
    "## EXERCISE 2: Simulate electrophysiological recordings\n",
    "\n"
   ]
  },
  {
   "cell_type": "markdown",
   "metadata": {
    "colab_type": "text",
    "id": "xfh8kuzxHAWp"
   },
   "source": [
    "###2.1. Data specification\n",
    "\n",
    "Assume we have $4$ minutes of data, recorded with samplying frequency $f_s = 10$ kHz. Assume there are two neurons appeared in the recordings and their action potentials each lasts for $1.8$ ms.\n"
   ]
  },
  {
   "cell_type": "markdown",
   "metadata": {
    "colab_type": "text",
    "id": "bUijFfCXHAxl"
   },
   "source": [
    "###2.2. Windowing\n",
    "\n",
    "Divide up the data into non-overlapping windows of length $0.05$ s. This results in $J$ number of windows (examples).\n"
   ]
  },
  {
   "cell_type": "markdown",
   "metadata": {
    "colab_type": "text",
    "id": "BLZjtt_ZHAt0"
   },
   "source": [
    "###2.3. Sparsity\n",
    "\n",
    "Asusme that each neuron has appeared three times in each window.\n"
   ]
  },
  {
   "cell_type": "markdown",
   "metadata": {
    "colab_type": "text",
    "id": "We6HKNKsHAkA"
   },
   "source": [
    "###2.4. Code amplitude\n",
    "\n",
    "Assume that the amplitude of each code follows a Gaussian distribution $\\mathcal{N}(2,0.1)$.\n"
   ]
  },
  {
   "cell_type": "markdown",
   "metadata": {
    "colab_type": "text",
    "id": "xGjLa8GHHAaX"
   },
   "source": [
    "###2.5. Noise\n",
    "\n",
    "Assume that the recordings contain Gaussian additive noise with std of $0.1$.\n"
   ]
  },
  {
   "cell_type": "code",
   "metadata": {
    "cellView": "both",
    "colab": {
     "base_uri": "https://localhost:8080/",
     "height": 69
    },
    "colab_type": "code",
    "id": "VTXr3TX_s6Ab",
    "outputId": "10eb4bad-6180-4e51-aa1d-c16ce21033fc",
    "ExecuteTime": {
     "end_time": "2024-04-16T14:25:12.703365Z",
     "start_time": "2024-04-16T14:25:12.687508Z"
    }
   },
   "source": [
    "##########################\n",
    "##### step 2.1.-2.5. #####\n",
    "### data specification ###\n",
    "########################## \n",
    "fs = 10 * 1000                     # sampling frequency in Hz\n",
    "data_dur =  4 * 60                 # data duration in s\n",
    "actpot_dur = 1.8                   # action potential length in ms\n",
    "window_dur = 0.05                   # window dutation in s\n",
    "C = 2                              # number of neurons\n",
    "s = 3                              # number of appearance of each neuron in each window\n",
    "x_mean = 2                         # code amplitude mean\n",
    "x_std = 0.1                         # code amplitude std\n",
    "noise_std = 0.1\n",
    "\n",
    "K = int(actpot_dur * fs / 1000) # filter legnth\n",
    "N = int(window_dur * fs)        # example duration\n",
    "J = int(data_dur / window_dur)  # number of examples\n",
    "\n",
    "# data parameters\n",
    "data_hyp ={\"J\": J, \"N\": N, \"K\": K, \"C\": C, \"s\": s, \"x_mean\": x_mean,\n",
    "           \"x_std\": x_std, \"noise_std\": noise_std, \"device\": device}\n",
    "\n",
    "print(\"filter length:\", K)\n",
    "print(\"example duration:\", N)\n",
    "print(\"number of examples:\", J)"
   ],
   "outputs": [
    {
     "name": "stdout",
     "output_type": "stream",
     "text": [
      "filter length: 18\n",
      "example duration: 500\n",
      "number of examples: 4800\n"
     ]
    }
   ],
   "execution_count": 52
  },
  {
   "cell_type": "markdown",
   "metadata": {
    "colab_type": "text",
    "id": "yi3dMjO0HrAq"
   },
   "source": [
    "###2.6. Create dataset\n",
    "\n",
    "Create a dataset with the above specifications.\n",
    "\n"
   ]
  },
  {
   "cell_type": "code",
   "metadata": {
    "cellView": "both",
    "colab": {},
    "colab_type": "code",
    "id": "4gdtiO7bucd_",
    "ExecuteTime": {
     "end_time": "2024-04-16T14:25:22.805241Z",
     "start_time": "2024-04-16T14:25:21.385063Z"
    }
   },
   "source": [
    "##########################\n",
    "####### step 2.6. ########\n",
    "##### create dataset #####\n",
    "##########################  \n",
    "\n",
    "class SimulatedDataset1D(Dataset):\n",
    "    def __init__(self, hyp):\n",
    "\n",
    "        self.J = hyp[\"J\"]\n",
    "        self.N = hyp[\"N\"]\n",
    "        self.K = hyp[\"K\"]\n",
    "        self.C = hyp[\"C\"]\n",
    "        self.s = hyp[\"s\"]\n",
    "        self.x_mean = hyp[\"x_mean\"]\n",
    "        self.x_std = hyp[\"x_std\"]\n",
    "        self.noise_std = hyp[\"noise_std\"]\n",
    "        self.device = hyp[\"device\"]\n",
    "\n",
    "        self.m = self.N - self.K + 1\n",
    "\n",
    "        # load filters\n",
    "        self.H = load_filters(self.device)\n",
    "        \n",
    "        ##########################\n",
    "        ####### step 2.6.1. ######\n",
    "        ##########################  \n",
    "        # generate sparse code using the already built in function generate_x()\n",
    "        self.x = self.generate_x()\n",
    "        \n",
    "        # do y = Hx\n",
    "        with torch.no_grad():\n",
    "            ##########################\n",
    "            ###### step 2.6.2. #######\n",
    "            ##########################  \n",
    "            # create y = Hx  \n",
    "            self.y = F.conv_transpose1d(self.x, self.H)\n",
    "            # add noise with std of noise_std to the data (y)\n",
    "            self.y += self.noise_std * torch.randn(self.y.shape, device=device).float()\n",
    "    \n",
    "    def generate_x(self):\n",
    "        with torch.no_grad():\n",
    "            x = torch.zeros((self.J, self.C, self.m), device=device)\n",
    "            # for loop over each example\n",
    "            for j in range(self.J):\n",
    "                # for loop over each filter\n",
    "                for c in range(self.C):\n",
    "                    ind = np.random.choice(self.m, self.s, replace=False)\n",
    "                    x[j,c,ind] = (torch.ones(self.s, device=self.device)) * (\n",
    "                        self.x_std * torch.randn((self.s), device=self.device).float() + self.x_mean\n",
    "                    )\n",
    "        return x\n",
    "    \n",
    "    def __len__(self):\n",
    "        return self.J\n",
    "\n",
    "    def __getitem__(self, idx):\n",
    "            \n",
    "        return self.y[idx], self.x[idx], self.H\n",
    "\n",
    "# create dataset\n",
    "dataset = SimulatedDataset1D(data_hyp)"
   ],
   "outputs": [],
   "execution_count": 55
  },
  {
   "cell_type": "markdown",
   "metadata": {
    "colab_type": "text",
    "id": "OKDRh4JnHrMC"
   },
   "source": [
    "###2.7. Visualize\n",
    "\n",
    "plot the filters (action potential), code, and the data."
   ]
  },
  {
   "cell_type": "code",
   "metadata": {
    "cellView": "both",
    "colab": {
     "base_uri": "https://localhost:8080/",
     "height": 420
    },
    "colab_type": "code",
    "id": "L2nq2n52vfcu",
    "outputId": "e87eb4d6-edb8-41e6-bb59-0ce52c104e2d",
    "ExecuteTime": {
     "end_time": "2024-04-16T14:25:49.760108Z",
     "start_time": "2024-04-16T14:25:49.303873Z"
    }
   },
   "source": [
    "##########################\n",
    "####### step 2.7. ########\n",
    "##### visualize data #####\n",
    "##########################  \n",
    "i = 2\n",
    "yi, xi, h = dataset[i]\n",
    "\n",
    "# visualize filters\n",
    "vis_filters(h)\n",
    "\n",
    "# visualize code for example i\n",
    "vis_code(xi)\n",
    "\n",
    "# visualize data\n",
    "vis_data(yi)"
   ],
   "outputs": [
    {
     "data": {
      "text/plain": [
       "<Figure size 500x200 with 1 Axes>"
      ],
      "image/png": "[encoded data removed]"
     },
     "metadata": {},
     "output_type": "display_data"
    },
    {
     "data": {
      "text/plain": [
       "<Figure size 2000x300 with 1 Axes>"
      ],
      "image/png": "[encoded data removed]"
     },
     "metadata": {},
     "output_type": "display_data"
    },
    {
     "data": {
      "text/plain": [
       "<Figure size 2000x300 with 1 Axes>"
      ],
      "image/png": "[encoded data removed]"
     },
     "metadata": {},
     "output_type": "display_data"
    }
   ],
   "execution_count": 57
  },
  {
   "cell_type": "markdown",
   "metadata": {
    "colab_type": "text",
    "id": "VMhzw2pO9csN"
   },
   "source": [
    "---\n",
    "## Exercise 3: Train CRsAE \n"
   ]
  },
  {
   "cell_type": "markdown",
   "metadata": {
    "colab_type": "text",
    "id": "IwSu2F_MEVpF"
   },
   "source": [
    "###3.1. Build CRsAE\n",
    "\n",
    "Build a neural network suited for your dataset (i.e., learn 2 action potentials, each length 18, unfold the encoder for 200 iterations).\n",
    "\n",
    "Here, we initialize the weights of the neural network to be perturbed version of the simulated filters (see Eq. (12) in [this paper](https://arxiv.org/abs/1807.04734) for calculation of distance between the dictionaries).\n"
   ]
  },
  {
   "cell_type": "code",
   "metadata": {
    "cellView": "both",
    "colab": {},
    "colab_type": "code",
    "id": "jU-D7reOx5f8",
    "ExecuteTime": {
     "end_time": "2024-04-16T14:26:31.832430Z",
     "start_time": "2024-04-16T14:26:31.794305Z"
    }
   },
   "source": [
    "##########################\n",
    "######## step 3.1. #######\n",
    "##### build network ######\n",
    "##########################  \n",
    "\n",
    "##########################\n",
    "####### step 3.1.1 ######\n",
    "########################## \n",
    "# fill in the gaps \n",
    "net_hyp = {\"T\": 200,                 # number of encoder unfolding\n",
    "           \"L\": 10,                  # 1/L is the step size in the encoder\n",
    "           \"C\": 2,                 # number of filters\n",
    "           \"K\": 18,                  # legnth of the filters\n",
    "           \"lam\": 0.7,\n",
    "           \"device\": device\n",
    "           }\n",
    "H_init = initialize_filter(dataset.H.clone())\n",
    "##########################\n",
    "####### step 3.1.2. ######\n",
    "##########################  \n",
    "# create the newtork with hyperparameters define above, and also H=H_init\n",
    "net = CRsAE1D(net_hyp, H=H_init)\n",
    "print(net)"
   ],
   "outputs": [
    {
     "name": "stdout",
     "output_type": "stream",
     "text": [
      "CRsAE1D(\n",
      "  (relu): ReLU()\n",
      ")\n"
     ]
    }
   ],
   "execution_count": 60
  },
  {
   "cell_type": "markdown",
   "metadata": {
    "colab_type": "text",
    "id": "5GXVxCHUEkha"
   },
   "source": [
    "###3.2. Hyperparameters and loader\n",
    "\n",
    "See how we set training hyperparameters and make the train loader.\n"
   ]
  },
  {
   "cell_type": "code",
   "metadata": {
    "colab": {},
    "colab_type": "code",
    "id": "1RiNGWfhE6r_",
    "ExecuteTime": {
     "end_time": "2024-04-16T14:26:38.092984Z",
     "start_time": "2024-04-16T14:26:38.078441Z"
    }
   },
   "source": [
    "##########################\n",
    "######## step 3.2. #######\n",
    "##########################  \n",
    "# training parameters\n",
    "train_hyp = {\"batch_size\": 256, \"num_epochs\": 20, \"lr\": 1e-2, \"shuffle\": True}\n",
    "# data loader\n",
    "train_loader = DataLoader(dataset, shuffle=train_hyp[\"shuffle\"], batch_size=train_hyp[\"batch_size\"])"
   ],
   "outputs": [],
   "execution_count": 61
  },
  {
   "cell_type": "markdown",
   "metadata": {
    "colab_type": "text",
    "id": "TOgKdxoVE7cW"
   },
   "source": [
    "###3.3. Loss function\n",
    "\n",
    "Specify the loss criterion use for training (i.e., use MSELoss as loss function from torch.nn).\n"
   ]
  },
  {
   "cell_type": "code",
   "metadata": {
    "colab": {},
    "colab_type": "code",
    "id": "gJFlm6qpFANo",
    "ExecuteTime": {
     "end_time": "2024-04-16T14:26:41.991776Z",
     "start_time": "2024-04-16T14:26:41.965046Z"
    }
   },
   "source": [
    "##########################\n",
    "######## step 3.3. #######\n",
    "##########################  \n",
    "# criterion\n",
    "criterion = torch.nn.MSELoss()"
   ],
   "outputs": [],
   "execution_count": 62
  },
  {
   "cell_type": "markdown",
   "metadata": {
    "colab_type": "text",
    "id": "oXT_PH53FDPR"
   },
   "source": [
    "###3.4. Optimizer\n",
    "\n",
    "Setup the optimizer (i.e., use ADAM optimizer).\n",
    "\n",
    "Specify its learning rate (lr), and eps=1e-3, you should set*params=net.parameters()* ( [help](https://pytorch.org/docs/stable/optim.html))\n"
   ]
  },
  {
   "cell_type": "code",
   "metadata": {
    "cellView": "both",
    "colab": {},
    "colab_type": "code",
    "id": "i4efWX0x6HT1",
    "ExecuteTime": {
     "end_time": "2024-04-16T14:26:46.071254Z",
     "start_time": "2024-04-16T14:26:46.030778Z"
    }
   },
   "source": [
    "##########################\n",
    "######## step 3.4. #######\n",
    "##########################  \n",
    "# optimizer\n",
    "optimizer = optim.Adam(net.parameters(), lr=train_hyp[\"lr\"], eps=1e-3)"
   ],
   "outputs": [],
   "execution_count": 63
  },
  {
   "cell_type": "markdown",
   "metadata": {
    "colab_type": "text",
    "id": "aZhA92kdFQ-A"
   },
   "source": [
    "###3.5. Train\n",
    "\n"
   ]
  },
  {
   "cell_type": "code",
   "metadata": {
    "cellView": "both",
    "colab": {
     "base_uri": "https://localhost:8080/",
     "height": 1000
    },
    "colab_type": "code",
    "id": "gkHSu59f9ph1",
    "outputId": "723daba0-1729-43ca-92d2-6edcecc7bff8",
    "jupyter": {
     "is_executing": true
    },
    "ExecuteTime": {
     "start_time": "2024-04-16T14:26:48.541255Z"
    }
   },
   "source": [
    "##########################\n",
    "####### step 3.5. ########\n",
    "######## training ######## \n",
    "##########################  \n",
    "\n",
    "print(\"\\n start training!\")\n",
    "print(\"initial err_H:{:4f}\\n\".format(torch.mean(compute_err_h(dataset.H, net.get_param(\"H\")))))\n",
    "# each loop is one pass over the whole dataset\n",
    "for epoch in tqdm(range(train_hyp[\"num_epochs\"]), disable=True):\n",
    "    loss_all = 0\n",
    "    # each loop is a mini-batch\n",
    "    for idx, (y,_,_) in tqdm(enumerate(train_loader), disable=False):\n",
    "        # load data input the device\n",
    "        y = y.to(device)\n",
    "\n",
    "        ##########################\n",
    "        ###### step 3.5.1. #######\n",
    "        ########################## \n",
    "        # run the network in forward net(y) to get y_hat and x_hat\n",
    "        y_hat, _ = net(y)\n",
    "\n",
    "        ##########################\n",
    "        ####### step 3.5.2. ######\n",
    "        ########################## \n",
    "        # compute loss using the created criterion\n",
    "        loss = criterion(y, y_hat)\n",
    "        loss_all += float(loss.item())\n",
    "        \n",
    "        ##########################\n",
    "        ####### step 3.5.3 #######\n",
    "        ########################## \n",
    "        # set the gradients in the optimizer to zero (optimizer.zero_grad())\n",
    "        optimizer.zero_grad()\n",
    "        # do backward on the loss\n",
    "        loss.backward()\n",
    "        # take a step with the optimizer\n",
    "        optimizer.step()\n",
    "\n",
    "        # normalize filters\n",
    "        net.normalize()\n",
    "        \n",
    "        err_h = compute_err_h(dataset.H, net.get_param(\"H\"))\n",
    "    print(\"Epoch [{}/{}]loss:{:.4f}, err_H:{:4f}\\n\".format(epoch+1,train_hyp[\"num_epochs\"],loss_all, torch.mean(err_h)))"
   ],
   "outputs": [
    {
     "name": "stdout",
     "output_type": "stream",
     "text": [
      "\n",
      " start training!\n",
      "initial err_H:0.479709\n",
      "\n"
     ]
    },
    {
     "name": "stderr",
     "output_type": "stream",
     "text": [
      "7it [00:37,  5.26s/it]"
     ]
    }
   ],
   "execution_count": null
  },
  {
   "cell_type": "markdown",
   "metadata": {
    "colab_type": "text",
    "id": "pHgxcRh1PPlc"
   },
   "source": [
    "Note: You may learn the filters with a slight shift (either left to right). This results in the shift of the codes to the opposite direction accordingly. Hence, in the reconstruction stage, these shifts will cancel out each other. So, it's fine if your network has learned a shifted version of the simulated filters."
   ]
  },
  {
   "cell_type": "markdown",
   "metadata": {
    "colab_type": "text",
    "id": "GAxLXOlyFlRT"
   },
   "source": [
    "###3.6. Visualize\n",
    "\n",
    "visualize the learned filters, the reconstructed data, and also reconstruction of each of the neurons separately (i.e, Given the learned filters $\\mathbf{h}_1$ and $\\mathbf{h}_2$, reconstruction each of neurons can be acquired as following: $\\mathbf{H}_1 \\mathbf{x}_1$, and $\\mathbf{H}_2 \\mathbf{x}_2$). Look into **separate** function in CRsAE1D for detailed implementation of this separation."
   ]
  },
  {
   "cell_type": "code",
   "metadata": {
    "cellView": "both",
    "colab": {
     "base_uri": "https://localhost:8080/",
     "height": 540
    },
    "colab_type": "code",
    "id": "guwrFzs7_KOo",
    "outputId": "eee06430-8a8d-4d44-b2ea-70bc8686d162",
    "ExecuteTime": {
     "end_time": "2024-04-16T14:22:05.043430Z",
     "start_time": "2024-04-16T14:22:04.993689Z"
    }
   },
   "source": [
    "##########################\n",
    "####### step 3.6. ########\n",
    "########################## \n",
    "yi, xi, _ = dataset[0:3]\n",
    "yi_hat, xi_hat = net(yi)\n",
    "\n",
    "# this function gets y and gives [h1 * x1, h2 * x2]\n",
    "hx = net.separate(yi)\n",
    "\n",
    "# visualize the filters\n",
    "vis_filter_est(dataset.H, H_init, net.get_param(\"H\"))\n",
    "\n",
    "# visualize the data\n",
    "vis_data_est(yi[0], yi_hat[0])\n",
    "\n",
    "# visualize Hx1 and Hx2\n",
    "vis_data_separated_est(hx[0][0], hx[0][1])"
   ],
   "outputs": [
    {
     "ename": "NameError",
     "evalue": "name 'dataset' is not defined",
     "output_type": "error",
     "traceback": [
      "\u001B[1;31m---------------------------------------------------------------------------\u001B[0m",
      "\u001B[1;31mNameError\u001B[0m                                 Traceback (most recent call last)",
      "Cell \u001B[1;32mIn[41], line 4\u001B[0m\n\u001B[0;32m      1\u001B[0m \u001B[38;5;66;03m##########################\u001B[39;00m\n\u001B[0;32m      2\u001B[0m \u001B[38;5;66;03m####### step 3.6. ########\u001B[39;00m\n\u001B[0;32m      3\u001B[0m \u001B[38;5;66;03m########################## \u001B[39;00m\n\u001B[1;32m----> 4\u001B[0m yi, xi, _ \u001B[38;5;241m=\u001B[39m \u001B[43mdataset\u001B[49m[\u001B[38;5;241m0\u001B[39m:\u001B[38;5;241m3\u001B[39m]\n\u001B[0;32m      5\u001B[0m yi_hat, xi_hat \u001B[38;5;241m=\u001B[39m net(yi)\n\u001B[0;32m      7\u001B[0m \u001B[38;5;66;03m# this function gets y and gives [h1 * x1, h2 * x2]\u001B[39;00m\n",
      "\u001B[1;31mNameError\u001B[0m: name 'dataset' is not defined"
     ]
    }
   ],
   "execution_count": 41
  },
  {
   "cell_type": "markdown",
   "metadata": {
    "colab_type": "text",
    "id": "RLyWKXO5vltk"
   },
   "source": [
    "---\n",
    "## Exercise 4: Spike Sorting on Harris Dataset\n",
    "\n",
    "\n",
    "\n"
   ]
  },
  {
   "cell_type": "markdown",
   "metadata": {
    "colab_type": "text",
    "id": "w-bVtLZy4jW-"
   },
   "source": [
    "###4.1. Load Harris dataset\n",
    "\n",
    "The **harris_dataset** dataset contains y_series_harris with dim (1, 1, 1492000) and y_harris with dim (24,1,60000).\n",
    "\n",
    "1492000 is the length of the whole dataset. y_harris is windowed version of y_series_harris (24 * 60000 ~= 1492000).\n",
    "\n",
    "In y_harris, some portion of the data containing bursting is removed for the purpose of training.\n",
    "\n",
    "In this dataset, there seems to be mainly two neurons active."
   ]
  },
  {
   "cell_type": "code",
   "metadata": {
    "colab": {
     "base_uri": "https://localhost:8080/",
     "height": 52
    },
    "colab_type": "code",
    "id": "7OlHFm94Z7g-",
    "outputId": "6a75c01c-63d6-4616-82fb-e0fd4917bfea",
    "ExecuteTime": {
     "end_time": "2024-04-16T14:22:05.351379Z",
     "start_time": "2024-04-16T14:22:05.129957Z"
    }
   },
   "source": [
    "##########################\n",
    "####### step 4.1. ########\n",
    "###### load dataset ######\n",
    "##########################  \n",
    "\n",
    "# load dataset\n",
    "# y_harris has dimension  (24, 1, 60000)\n",
    "y_harris = load_y_harris(device)                    \n",
    "y_series_harris = load_y_series_harris(device)\n",
    "\n",
    "class HarrisDataset(Dataset):\n",
    "    def __init__(self, y, y_series, device):\n",
    "\n",
    "        self.device = device\n",
    "        self.J = y.shape[0]\n",
    "        self.y = y.to(self.device)\n",
    "        self.y_series = y_series.to(self.device)\n",
    "        \n",
    "    def __len__(self):\n",
    "        return self.J\n",
    "\n",
    "    def __getitem__(self, idx):\n",
    "        return self.y[idx], self.y_series[0]\n",
    "\n",
    "harris_dataset = HarrisDataset(y_harris, y_series_harris, device)\n",
    "\n",
    "print(\"y_harris shape:\", y_harris.shape)\n",
    "print(\"y_series_harris shape:\", y_series_harris.shape)"
   ],
   "outputs": [
    {
     "ename": "RuntimeError",
     "evalue": "Attempting to deserialize object on a CUDA device but torch.cuda.is_available() is False. If you are running on a CPU-only machine, please use torch.load with map_location=torch.device('cpu') to map your storages to the CPU.",
     "output_type": "error",
     "traceback": [
      "\u001B[1;31m---------------------------------------------------------------------------\u001B[0m",
      "\u001B[1;31mRuntimeError\u001B[0m                              Traceback (most recent call last)",
      "Cell \u001B[1;32mIn[42], line 8\u001B[0m\n\u001B[0;32m      1\u001B[0m \u001B[38;5;66;03m##########################\u001B[39;00m\n\u001B[0;32m      2\u001B[0m \u001B[38;5;66;03m####### step 4.1. ########\u001B[39;00m\n\u001B[0;32m      3\u001B[0m \u001B[38;5;66;03m###### load dataset ######\u001B[39;00m\n\u001B[1;32m   (...)\u001B[0m\n\u001B[0;32m      6\u001B[0m \u001B[38;5;66;03m# load dataset\u001B[39;00m\n\u001B[0;32m      7\u001B[0m \u001B[38;5;66;03m# y_harris has dimension  (24, 1, 60000)\u001B[39;00m\n\u001B[1;32m----> 8\u001B[0m y_harris \u001B[38;5;241m=\u001B[39m \u001B[43mload_y_harris\u001B[49m\u001B[43m(\u001B[49m\u001B[43mdevice\u001B[49m\u001B[43m)\u001B[49m                    \n\u001B[0;32m      9\u001B[0m y_series_harris \u001B[38;5;241m=\u001B[39m load_y_series_harris(device)\n\u001B[0;32m     11\u001B[0m \u001B[38;5;28;01mclass\u001B[39;00m \u001B[38;5;21;01mHarrisDataset\u001B[39;00m(Dataset):\n",
      "Cell \u001B[1;32mIn[34], line 112\u001B[0m, in \u001B[0;36mload_y_harris\u001B[1;34m(device)\u001B[0m\n\u001B[0;32m    111\u001B[0m \u001B[38;5;28;01mdef\u001B[39;00m \u001B[38;5;21mload_y_harris\u001B[39m(device):\n\u001B[1;32m--> 112\u001B[0m     \u001B[38;5;28;01mreturn\u001B[39;00m \u001B[43mtorch\u001B[49m\u001B[38;5;241;43m.\u001B[39;49m\u001B[43mload\u001B[49m\u001B[43m(\u001B[49m\u001B[43mdata_dir\u001B[49m\u001B[38;5;241;43m/\u001B[39;49m\u001B[38;5;124;43m\"\u001B[39;49m\u001B[38;5;124;43my_harris.pt\u001B[39;49m\u001B[38;5;124;43m\"\u001B[39;49m\u001B[43m)\u001B[49m\u001B[38;5;241m.\u001B[39mto(device)\n",
      "File \u001B[1;32m~\\.virtualenvs\\sparse-representation-neuro\\lib\\site-packages\\torch\\serialization.py:815\u001B[0m, in \u001B[0;36mload\u001B[1;34m(f, map_location, pickle_module, weights_only, **pickle_load_args)\u001B[0m\n\u001B[0;32m    813\u001B[0m     \u001B[38;5;28;01mexcept\u001B[39;00m \u001B[38;5;167;01mRuntimeError\u001B[39;00m \u001B[38;5;28;01mas\u001B[39;00m e:\n\u001B[0;32m    814\u001B[0m         \u001B[38;5;28;01mraise\u001B[39;00m pickle\u001B[38;5;241m.\u001B[39mUnpicklingError(UNSAFE_MESSAGE \u001B[38;5;241m+\u001B[39m \u001B[38;5;28mstr\u001B[39m(e)) \u001B[38;5;28;01mfrom\u001B[39;00m \u001B[38;5;28;01mNone\u001B[39;00m\n\u001B[1;32m--> 815\u001B[0m \u001B[38;5;28;01mreturn\u001B[39;00m _legacy_load(opened_file, map_location, pickle_module, \u001B[38;5;241m*\u001B[39m\u001B[38;5;241m*\u001B[39mpickle_load_args)\n",
      "File \u001B[1;32m~\\.virtualenvs\\sparse-representation-neuro\\lib\\site-packages\\torch\\serialization.py:1043\u001B[0m, in \u001B[0;36m_legacy_load\u001B[1;34m(f, map_location, pickle_module, **pickle_load_args)\u001B[0m\n\u001B[0;32m   1041\u001B[0m unpickler \u001B[38;5;241m=\u001B[39m UnpicklerWrapper(f, \u001B[38;5;241m*\u001B[39m\u001B[38;5;241m*\u001B[39mpickle_load_args)\n\u001B[0;32m   1042\u001B[0m unpickler\u001B[38;5;241m.\u001B[39mpersistent_load \u001B[38;5;241m=\u001B[39m persistent_load\n\u001B[1;32m-> 1043\u001B[0m result \u001B[38;5;241m=\u001B[39m \u001B[43munpickler\u001B[49m\u001B[38;5;241;43m.\u001B[39;49m\u001B[43mload\u001B[49m\u001B[43m(\u001B[49m\u001B[43m)\u001B[49m\n\u001B[0;32m   1045\u001B[0m deserialized_storage_keys \u001B[38;5;241m=\u001B[39m pickle_module\u001B[38;5;241m.\u001B[39mload(f, \u001B[38;5;241m*\u001B[39m\u001B[38;5;241m*\u001B[39mpickle_load_args)\n\u001B[0;32m   1047\u001B[0m offset \u001B[38;5;241m=\u001B[39m f\u001B[38;5;241m.\u001B[39mtell() \u001B[38;5;28;01mif\u001B[39;00m f_should_read_directly \u001B[38;5;28;01melse\u001B[39;00m \u001B[38;5;28;01mNone\u001B[39;00m\n",
      "File \u001B[1;32m~\\.virtualenvs\\sparse-representation-neuro\\lib\\site-packages\\torch\\serialization.py:980\u001B[0m, in \u001B[0;36m_legacy_load.<locals>.persistent_load\u001B[1;34m(saved_id)\u001B[0m\n\u001B[0;32m    976\u001B[0m     obj\u001B[38;5;241m.\u001B[39m_torch_load_uninitialized \u001B[38;5;241m=\u001B[39m \u001B[38;5;28;01mTrue\u001B[39;00m\n\u001B[0;32m    977\u001B[0m     \u001B[38;5;66;03m# TODO: Once we decide to break serialization FC, we can\u001B[39;00m\n\u001B[0;32m    978\u001B[0m     \u001B[38;5;66;03m# stop wrapping with TypedStorage\u001B[39;00m\n\u001B[0;32m    979\u001B[0m     typed_storage \u001B[38;5;241m=\u001B[39m torch\u001B[38;5;241m.\u001B[39mstorage\u001B[38;5;241m.\u001B[39mTypedStorage(\n\u001B[1;32m--> 980\u001B[0m         wrap_storage\u001B[38;5;241m=\u001B[39m\u001B[43mrestore_location\u001B[49m\u001B[43m(\u001B[49m\u001B[43mobj\u001B[49m\u001B[43m,\u001B[49m\u001B[43m \u001B[49m\u001B[43mlocation\u001B[49m\u001B[43m)\u001B[49m,\n\u001B[0;32m    981\u001B[0m         dtype\u001B[38;5;241m=\u001B[39mdtype,\n\u001B[0;32m    982\u001B[0m         _internal\u001B[38;5;241m=\u001B[39m\u001B[38;5;28;01mTrue\u001B[39;00m)\n\u001B[0;32m    983\u001B[0m     deserialized_objects[root_key] \u001B[38;5;241m=\u001B[39m typed_storage\n\u001B[0;32m    984\u001B[0m \u001B[38;5;28;01melse\u001B[39;00m:\n",
      "File \u001B[1;32m~\\.virtualenvs\\sparse-representation-neuro\\lib\\site-packages\\torch\\serialization.py:217\u001B[0m, in \u001B[0;36mdefault_restore_location\u001B[1;34m(storage, location)\u001B[0m\n\u001B[0;32m    215\u001B[0m \u001B[38;5;28;01mdef\u001B[39;00m \u001B[38;5;21mdefault_restore_location\u001B[39m(storage, location):\n\u001B[0;32m    216\u001B[0m     \u001B[38;5;28;01mfor\u001B[39;00m _, _, fn \u001B[38;5;129;01min\u001B[39;00m _package_registry:\n\u001B[1;32m--> 217\u001B[0m         result \u001B[38;5;241m=\u001B[39m \u001B[43mfn\u001B[49m\u001B[43m(\u001B[49m\u001B[43mstorage\u001B[49m\u001B[43m,\u001B[49m\u001B[43m \u001B[49m\u001B[43mlocation\u001B[49m\u001B[43m)\u001B[49m\n\u001B[0;32m    218\u001B[0m         \u001B[38;5;28;01mif\u001B[39;00m result \u001B[38;5;129;01mis\u001B[39;00m \u001B[38;5;129;01mnot\u001B[39;00m \u001B[38;5;28;01mNone\u001B[39;00m:\n\u001B[0;32m    219\u001B[0m             \u001B[38;5;28;01mreturn\u001B[39;00m result\n",
      "File \u001B[1;32m~\\.virtualenvs\\sparse-representation-neuro\\lib\\site-packages\\torch\\serialization.py:182\u001B[0m, in \u001B[0;36m_cuda_deserialize\u001B[1;34m(obj, location)\u001B[0m\n\u001B[0;32m    180\u001B[0m \u001B[38;5;28;01mdef\u001B[39;00m \u001B[38;5;21m_cuda_deserialize\u001B[39m(obj, location):\n\u001B[0;32m    181\u001B[0m     \u001B[38;5;28;01mif\u001B[39;00m location\u001B[38;5;241m.\u001B[39mstartswith(\u001B[38;5;124m'\u001B[39m\u001B[38;5;124mcuda\u001B[39m\u001B[38;5;124m'\u001B[39m):\n\u001B[1;32m--> 182\u001B[0m         device \u001B[38;5;241m=\u001B[39m \u001B[43mvalidate_cuda_device\u001B[49m\u001B[43m(\u001B[49m\u001B[43mlocation\u001B[49m\u001B[43m)\u001B[49m\n\u001B[0;32m    183\u001B[0m         \u001B[38;5;28;01mif\u001B[39;00m \u001B[38;5;28mgetattr\u001B[39m(obj, \u001B[38;5;124m\"\u001B[39m\u001B[38;5;124m_torch_load_uninitialized\u001B[39m\u001B[38;5;124m\"\u001B[39m, \u001B[38;5;28;01mFalse\u001B[39;00m):\n\u001B[0;32m    184\u001B[0m             \u001B[38;5;28;01mwith\u001B[39;00m torch\u001B[38;5;241m.\u001B[39mcuda\u001B[38;5;241m.\u001B[39mdevice(device):\n",
      "File \u001B[1;32m~\\.virtualenvs\\sparse-representation-neuro\\lib\\site-packages\\torch\\serialization.py:166\u001B[0m, in \u001B[0;36mvalidate_cuda_device\u001B[1;34m(location)\u001B[0m\n\u001B[0;32m    163\u001B[0m device \u001B[38;5;241m=\u001B[39m torch\u001B[38;5;241m.\u001B[39mcuda\u001B[38;5;241m.\u001B[39m_utils\u001B[38;5;241m.\u001B[39m_get_device_index(location, \u001B[38;5;28;01mTrue\u001B[39;00m)\n\u001B[0;32m    165\u001B[0m \u001B[38;5;28;01mif\u001B[39;00m \u001B[38;5;129;01mnot\u001B[39;00m torch\u001B[38;5;241m.\u001B[39mcuda\u001B[38;5;241m.\u001B[39mis_available():\n\u001B[1;32m--> 166\u001B[0m     \u001B[38;5;28;01mraise\u001B[39;00m \u001B[38;5;167;01mRuntimeError\u001B[39;00m(\u001B[38;5;124m'\u001B[39m\u001B[38;5;124mAttempting to deserialize object on a CUDA \u001B[39m\u001B[38;5;124m'\u001B[39m\n\u001B[0;32m    167\u001B[0m                        \u001B[38;5;124m'\u001B[39m\u001B[38;5;124mdevice but torch.cuda.is_available() is False. \u001B[39m\u001B[38;5;124m'\u001B[39m\n\u001B[0;32m    168\u001B[0m                        \u001B[38;5;124m'\u001B[39m\u001B[38;5;124mIf you are running on a CPU-only machine, \u001B[39m\u001B[38;5;124m'\u001B[39m\n\u001B[0;32m    169\u001B[0m                        \u001B[38;5;124m'\u001B[39m\u001B[38;5;124mplease use torch.load with map_location=torch.device(\u001B[39m\u001B[38;5;130;01m\\'\u001B[39;00m\u001B[38;5;124mcpu\u001B[39m\u001B[38;5;130;01m\\'\u001B[39;00m\u001B[38;5;124m) \u001B[39m\u001B[38;5;124m'\u001B[39m\n\u001B[0;32m    170\u001B[0m                        \u001B[38;5;124m'\u001B[39m\u001B[38;5;124mto map your storages to the CPU.\u001B[39m\u001B[38;5;124m'\u001B[39m)\n\u001B[0;32m    171\u001B[0m device_count \u001B[38;5;241m=\u001B[39m torch\u001B[38;5;241m.\u001B[39mcuda\u001B[38;5;241m.\u001B[39mdevice_count()\n\u001B[0;32m    172\u001B[0m \u001B[38;5;28;01mif\u001B[39;00m device \u001B[38;5;241m>\u001B[39m\u001B[38;5;241m=\u001B[39m device_count:\n",
      "\u001B[1;31mRuntimeError\u001B[0m: Attempting to deserialize object on a CUDA device but torch.cuda.is_available() is False. If you are running on a CPU-only machine, please use torch.load with map_location=torch.device('cpu') to map your storages to the CPU."
     ]
    }
   ],
   "execution_count": 42
  },
  {
   "cell_type": "markdown",
   "metadata": {
    "colab_type": "text",
    "id": "XpzqF1xl40Dp"
   },
   "source": [
    "###4.2. Hyperparamaters and initialization\n",
    "\n",
    "Set the hypeparameters (i.e., learn 2 action potentials, each length 35, unfold the encoder for 600 iterations, batch size of 1).\n",
    "\n",
    "Create dataloader for the dataset (i.e., use shuffle and batch size from the hyperparameters, and the created dataset in previous step), and load initialized filters (i.e., the filters are two action potentials picked from the dataset using k-means)."
   ]
  },
  {
   "cell_type": "code",
   "metadata": {
    "colab": {},
    "colab_type": "code",
    "id": "zVnQA8R6SRrq"
   },
   "source": [
    "##########################\n",
    "######## step 4.2.########\n",
    "#### hyperparameters #####\n",
    "##########################  \n",
    "\n",
    "# parameters\n",
    "harris_hyp = {\"J\": 24,            # number of windows\n",
    "              \"T\": 600,           # number of encoder unfolding\n",
    "              \"L\": 15,            # 1/L is the encoder step size\n",
    "              \"C\": 2,             # number of filters\n",
    "              \"K\": 35,            # length of filters\n",
    "              \"lam\": 0.25,        # lambda (enforcing sparsity)\n",
    "              \"device\": device,\n",
    "              \"batch_size\": 1,    # number of examples in each gradient update\n",
    "              \"num_epochs\": 20,\n",
    "              \"lr\": 5e-3,\n",
    "              \"shuffle\": True}\n",
    "\n",
    "# load init filters\n",
    "h_init = load_h_init_harris(device)\n",
    "\n",
    "# data loader\n",
    "train_loader = DataLoader(harris_dataset, shuffle=harris_hyp[\"shuffle\"], batch_size=harris_hyp[\"batch_size\"])\n"
   ],
   "outputs": [],
   "execution_count": null
  },
  {
   "cell_type": "markdown",
   "metadata": {
    "colab_type": "text",
    "id": "fCbI-aWs5NcS"
   },
   "source": [
    "###4.3. Build CRsAE\n",
    "\n",
    "Build CRsAE, a neural network suited for the Harris dataset using the hyperparameters and the loaded filters."
   ]
  },
  {
   "cell_type": "code",
   "metadata": {
    "colab": {},
    "colab_type": "code",
    "id": "qPsplx8bTygr",
    "ExecuteTime": {
     "end_time": "2024-04-16T14:22:05.416611Z",
     "start_time": "2024-04-16T14:22:05.374289Z"
    }
   },
   "source": [
    "##########################\n",
    "######## step 4.3. #######\n",
    "##### build network ######\n",
    "##########################  \n",
    "\n",
    "# build network\n",
    "harris_net = CRsAE1D(harris_hyp, H=h_init)"
   ],
   "outputs": [
    {
     "ename": "NameError",
     "evalue": "name 'harris_hyp' is not defined",
     "output_type": "error",
     "traceback": [
      "\u001B[1;31m---------------------------------------------------------------------------\u001B[0m",
      "\u001B[1;31mNameError\u001B[0m                                 Traceback (most recent call last)",
      "Cell \u001B[1;32mIn[43], line 7\u001B[0m\n\u001B[0;32m      1\u001B[0m \u001B[38;5;66;03m##########################\u001B[39;00m\n\u001B[0;32m      2\u001B[0m \u001B[38;5;66;03m######## step 4.3. #######\u001B[39;00m\n\u001B[0;32m      3\u001B[0m \u001B[38;5;66;03m##### build network ######\u001B[39;00m\n\u001B[0;32m      4\u001B[0m \u001B[38;5;66;03m##########################  \u001B[39;00m\n\u001B[0;32m      5\u001B[0m \n\u001B[0;32m      6\u001B[0m \u001B[38;5;66;03m# build network\u001B[39;00m\n\u001B[1;32m----> 7\u001B[0m harris_net \u001B[38;5;241m=\u001B[39m CRsAE1D(\u001B[43mharris_hyp\u001B[49m, H\u001B[38;5;241m=\u001B[39mh_init)\n",
      "\u001B[1;31mNameError\u001B[0m: name 'harris_hyp' is not defined"
     ]
    }
   ],
   "execution_count": 43
  },
  {
   "cell_type": "markdown",
   "metadata": {
    "colab_type": "text",
    "id": "Q0esxRlP5ZHG"
   },
   "source": [
    "###4.4. Loss and optimizer\n",
    "\n",
    "Specify the loss criterion use for training (i.e., use MSELoss as loss function from torch.nn) and setup the optimizer (i.e., use ADAM optimizer). Specify its learning rate (lr), and eps=1e-3, you should set*params=net.parameters()* ( [help](https://pytorch.org/docs/stable/optim.html))"
   ]
  },
  {
   "cell_type": "code",
   "metadata": {
    "colab": {},
    "colab_type": "code",
    "id": "kbNfoleIUFvx",
    "ExecuteTime": {
     "end_time": "2024-04-16T14:22:05.523595Z",
     "start_time": "2024-04-16T14:22:05.488237Z"
    }
   },
   "source": [
    "##########################\n",
    "######## step 4.4. #######\n",
    "##### loss and optim #####\n",
    "##########################  \n",
    "\n",
    "\n",
    "# use mse loss as criterion\n",
    "criterion = torch.nn.MSELoss()\n",
    "\n",
    "# build optimizer\n",
    "optimizer = optim.Adam(harris_net.parameters(), lr=harris_hyp[\"lr\"], eps=1e-3)"
   ],
   "outputs": [
    {
     "ename": "NameError",
     "evalue": "name 'harris_net' is not defined",
     "output_type": "error",
     "traceback": [
      "\u001B[1;31m---------------------------------------------------------------------------\u001B[0m",
      "\u001B[1;31mNameError\u001B[0m                                 Traceback (most recent call last)",
      "Cell \u001B[1;32mIn[44], line 11\u001B[0m\n\u001B[0;32m      8\u001B[0m criterion \u001B[38;5;241m=\u001B[39m torch\u001B[38;5;241m.\u001B[39mnn\u001B[38;5;241m.\u001B[39mMSELoss()\n\u001B[0;32m     10\u001B[0m \u001B[38;5;66;03m# build optimizer\u001B[39;00m\n\u001B[1;32m---> 11\u001B[0m optimizer \u001B[38;5;241m=\u001B[39m optim\u001B[38;5;241m.\u001B[39mAdam(\u001B[43mharris_net\u001B[49m\u001B[38;5;241m.\u001B[39mparameters(), lr\u001B[38;5;241m=\u001B[39mharris_hyp[\u001B[38;5;124m\"\u001B[39m\u001B[38;5;124mlr\u001B[39m\u001B[38;5;124m\"\u001B[39m], eps\u001B[38;5;241m=\u001B[39m\u001B[38;5;241m1e-3\u001B[39m)\n",
      "\u001B[1;31mNameError\u001B[0m: name 'harris_net' is not defined"
     ]
    }
   ],
   "execution_count": 44
  },
  {
   "cell_type": "markdown",
   "metadata": {
    "colab_type": "text",
    "id": "poM1zuZC5nqi"
   },
   "source": [
    "### 4.5. Train"
   ]
  },
  {
   "cell_type": "code",
   "metadata": {
    "colab": {
     "base_uri": "https://localhost:8080/",
     "height": 1000
    },
    "colab_type": "code",
    "id": "eiVKFSLjepEf",
    "outputId": "90d51cf2-47b9-4992-fb92-ff61c0940cea",
    "ExecuteTime": {
     "end_time": "2024-04-16T14:22:05.680382Z",
     "start_time": "2024-04-16T14:22:05.610937Z"
    }
   },
   "source": [
    "##########################\n",
    "######## step 4.5.########\n",
    "######### train! #########\n",
    "##########################  \n",
    "\n",
    "print(\"\\n start training!\")\n",
    "print(\"initial err_H:{:4f}\\n\".format(torch.mean(compute_err_h(h_init, harris_net.get_param(\"H\")))))\n",
    "for epoch in tqdm(range(harris_hyp[\"num_epochs\"]), disable=True):\n",
    "    loss_all = 0\n",
    "    for idx, (y,_) in tqdm(enumerate(train_loader), disable=False):\n",
    "        # load data input the device\n",
    "        y = y.to(device)\n",
    "\n",
    "        # forward\n",
    "        y_hat, _ = harris_net(y)\n",
    "\n",
    "        # compute loss\n",
    "        loss = criterion(y, y_hat)\n",
    "        loss_all += float(loss.item())\n",
    "        \n",
    "\n",
    "        # backward\n",
    "        optimizer.zero_grad()\n",
    "        loss.backward()\n",
    "        optimizer.step()\n",
    "\n",
    "        # normalize filters\n",
    "        harris_net.normalize()\n",
    "        \n",
    "        err_h = compute_err_h(h_init, harris_net.get_param(\"H\"))\n",
    "    print(\"Epoch [{}/{}]loss:{:.4f}, err_H:{:4f}\\n\".format(epoch+1,harris_hyp[\"num_epochs\"],loss_all, torch.mean(err_h)))"
   ],
   "outputs": [
    {
     "name": "stdout",
     "output_type": "stream",
     "text": [
      "\n",
      " start training!\n"
     ]
    },
    {
     "ename": "NameError",
     "evalue": "name 'h_init' is not defined",
     "output_type": "error",
     "traceback": [
      "\u001B[1;31m---------------------------------------------------------------------------\u001B[0m",
      "\u001B[1;31mNameError\u001B[0m                                 Traceback (most recent call last)",
      "Cell \u001B[1;32mIn[45], line 7\u001B[0m\n\u001B[0;32m      1\u001B[0m \u001B[38;5;66;03m##########################\u001B[39;00m\n\u001B[0;32m      2\u001B[0m \u001B[38;5;66;03m######## step 4.5.########\u001B[39;00m\n\u001B[0;32m      3\u001B[0m \u001B[38;5;66;03m######### train! #########\u001B[39;00m\n\u001B[0;32m      4\u001B[0m \u001B[38;5;66;03m##########################  \u001B[39;00m\n\u001B[0;32m      6\u001B[0m \u001B[38;5;28mprint\u001B[39m(\u001B[38;5;124m\"\u001B[39m\u001B[38;5;130;01m\\n\u001B[39;00m\u001B[38;5;124m start training!\u001B[39m\u001B[38;5;124m\"\u001B[39m)\n\u001B[1;32m----> 7\u001B[0m \u001B[38;5;28mprint\u001B[39m(\u001B[38;5;124m\"\u001B[39m\u001B[38;5;124minitial err_H:\u001B[39m\u001B[38;5;132;01m{:4f}\u001B[39;00m\u001B[38;5;130;01m\\n\u001B[39;00m\u001B[38;5;124m\"\u001B[39m\u001B[38;5;241m.\u001B[39mformat(torch\u001B[38;5;241m.\u001B[39mmean(compute_err_h(\u001B[43mh_init\u001B[49m, harris_net\u001B[38;5;241m.\u001B[39mget_param(\u001B[38;5;124m\"\u001B[39m\u001B[38;5;124mH\u001B[39m\u001B[38;5;124m\"\u001B[39m)))))\n\u001B[0;32m      8\u001B[0m \u001B[38;5;28;01mfor\u001B[39;00m epoch \u001B[38;5;129;01min\u001B[39;00m tqdm(\u001B[38;5;28mrange\u001B[39m(harris_hyp[\u001B[38;5;124m\"\u001B[39m\u001B[38;5;124mnum_epochs\u001B[39m\u001B[38;5;124m\"\u001B[39m]), disable\u001B[38;5;241m=\u001B[39m\u001B[38;5;28;01mTrue\u001B[39;00m):\n\u001B[0;32m      9\u001B[0m     loss_all \u001B[38;5;241m=\u001B[39m \u001B[38;5;241m0\u001B[39m\n",
      "\u001B[1;31mNameError\u001B[0m: name 'h_init' is not defined"
     ]
    }
   ],
   "execution_count": 45
  },
  {
   "cell_type": "markdown",
   "metadata": {
    "colab_type": "text",
    "id": "OS1vR0C650cF"
   },
   "source": [
    "### 4.6. Visualize\n",
    "\n",
    "Visualize the learned filters, the reconstructed data, and also reconstruction of each of the neurons separately (i.e, Given the learned filters $\\mathbf{h}_1$ and $\\mathbf{h}_2$, reconstruction each of neurons can be acquired as following: $\\mathbf{H}_1 \\mathbf{x}_1$, and $\\mathbf{H}_2 \\mathbf{x}_2$).\n",
    "\n",
    "Look into **separate** function in CRsAE1D for detailed implementation of this separation."
   ]
  },
  {
   "cell_type": "code",
   "metadata": {
    "colab": {
     "base_uri": "https://localhost:8080/",
     "height": 417
    },
    "colab_type": "code",
    "id": "KT4-rmoowyHz",
    "outputId": "d433273a-9d5d-493c-f1a0-89470445f3ef",
    "ExecuteTime": {
     "end_time": "2024-04-16T14:22:05.684030Z",
     "start_time": "2024-04-16T14:22:05.683746Z"
    }
   },
   "source": [
    "##########################\n",
    "######## step 4.6. #######\n",
    "######## visualize #######\n",
    "##########################  \n",
    "\n",
    "yi, y_series = harris_dataset[0:4]\n",
    "\n",
    "# run netowrk for yi\n",
    "yi_hat, xi_hat = harris_net(yi)\n",
    "\n",
    "# get [h1 * x1, h2 * x2] from yi\n",
    "hx = harris_net.separate(yi)\n",
    "\n",
    "# visualize the filters (action potentials)\n",
    "vis_filter_est(None, h_init, harris_net.get_param(\"H\"))\n",
    "\n",
    "# visualize the raw and denoised\n",
    "vis_data_est(yi[0], yi_hat[0])\n",
    "\n",
    "# visualize the separated activities\n",
    "vis_data_separated_est(hx[0][0], hx[0][1])"
   ],
   "outputs": [],
   "execution_count": null
  },
  {
   "cell_type": "markdown",
   "metadata": {
    "colab_type": "text",
    "id": "LVCq4z6_6Tn4"
   },
   "source": [
    "###4.7. Perform spike sorting\n",
    "\n",
    "For more info read VII. Experiments, B. Spike Sorting: Real Data. subsection Spike Sorting from [paper](https://arxiv.org/abs/1904.08827))."
   ]
  },
  {
   "cell_type": "code",
   "metadata": {
    "colab": {
     "base_uri": "https://localhost:8080/",
     "height": 333
    },
    "colab_type": "code",
    "id": "U9O9gfILe1_j",
    "outputId": "205dc9bd-1f62-473a-99a3-aefdcf9f0dc5",
    "ExecuteTime": {
     "end_time": "2024-04-16T14:22:05.840355Z",
     "start_time": "2024-04-16T14:22:05.781200Z"
    }
   },
   "source": [
    "##########################\n",
    "######### step 7 #########\n",
    "##### spike sorting ######\n",
    "##########################  \n",
    "\n",
    "def miss_false_spikes(spikes, spikes_hat, event_range):\n",
    "    \"\"\"\n",
    "    function to calculate miss and false spikes\n",
    "    :param spikes: true spikes (from intracellular)\n",
    "    :param spikes_hat: estimated spikes\n",
    "    :param event_range: range of which spikes match with each other\n",
    "    :return: (missed_spikes, missed_per, false_spikes, false_per)\n",
    "    \"\"\"\n",
    "\n",
    "    ctr_true_event = 0\n",
    "    ctr_pred_event = 0\n",
    "\n",
    "    missed_spikes = 0\n",
    "    false_spikes = 0\n",
    "\n",
    "    # loop over true spikes\n",
    "    for k in range(len(spikes)):\n",
    "        ctr_true_event += 1\n",
    "        event_distance = spikes[k] - spikes_hat\n",
    "        close_event = event_distance[np.where(event_distance[event_distance>=0] < event_range)]\n",
    "        if len(close_event) == 0:\n",
    "            missed_spikes += 1\n",
    "    # loop over predicted spikes\n",
    "    for k in range(len(spikes_hat)):\n",
    "        ctr_pred_event += 1\n",
    "        event_distance = spikes - spikes_hat[k]\n",
    "        close_event = event_distance[np.where(event_distance[event_distance>=0] < event_range)]\n",
    "        if len(close_event) == 0:\n",
    "            false_spikes += 1\n",
    "\n",
    "    if ctr_true_event != 0:\n",
    "        missed_per = (missed_spikes / ctr_true_event) * 100\n",
    "    if ctr_pred_event != 0:\n",
    "        false_per = (false_spikes / ctr_pred_event) * 100\n",
    "\n",
    "    return missed_spikes, missed_per, false_spikes, false_per\n",
    "\n",
    "\n",
    "##########################\n",
    "######## step 6.1 ########\n",
    "########################## \n",
    "# use the seaprate function and use y_series is input. \n",
    "hx_series = harris_net.separate(y_series)\n",
    "\n",
    "# load the spikes from intracellular recordings from neurons with index 0\n",
    "spikes = np.load(\"spikes.npy\")\n",
    "\n",
    "# get hx1 from hx_series\n",
    "hx1 = hx_series[0,0,:].clone().detach().cpu().numpy()\n",
    "\n",
    "# create a list of thresholds\n",
    "th_list = np.double(np.arange(0.1*np.max(hx1), 0.5*np.max(hx1), 0.001))\n",
    "\n",
    "missed_per_list = []\n",
    "false_per_list = []\n",
    "for th in th_list:\n",
    "  ##########################\n",
    "  ######## step 6.2 ########\n",
    "  ########################## \n",
    "  # find indices of peaks from hx1, using height=th\n",
    "  spikes_hat = find_peaks(hx1, height=th)[0]\n",
    "\n",
    "  ##########################\n",
    "  ######## step 6.3 ########\n",
    "  ########################## \n",
    "  # compute missed true and false alaram using the function miss_false_spikes\n",
    "  # use the following event_rage in the function\n",
    "  event_range = 5\n",
    "  missed_spikes, missed_per, false_spikes, false_per = miss_false_spikes(\n",
    "      spikes, spikes_hat, event_range\n",
    "  )\n",
    "\n",
    "  missed_per_list.append(missed_per)\n",
    "  false_per_list.append(false_per)\n",
    "\n",
    "# plot true miss - false alarm\n",
    "vis_miss_false(missed_per_list, false_per_list)"
   ],
   "outputs": [
    {
     "ename": "NameError",
     "evalue": "name 'harris_net' is not defined",
     "output_type": "error",
     "traceback": [
      "\u001B[1;31m---------------------------------------------------------------------------\u001B[0m",
      "\u001B[1;31mNameError\u001B[0m                                 Traceback (most recent call last)",
      "Cell \u001B[1;32mIn[46], line 48\u001B[0m\n\u001B[0;32m     41\u001B[0m     \u001B[38;5;28;01mreturn\u001B[39;00m missed_spikes, missed_per, false_spikes, false_per\n\u001B[0;32m     44\u001B[0m \u001B[38;5;66;03m##########################\u001B[39;00m\n\u001B[0;32m     45\u001B[0m \u001B[38;5;66;03m######## step 6.1 ########\u001B[39;00m\n\u001B[0;32m     46\u001B[0m \u001B[38;5;66;03m########################## \u001B[39;00m\n\u001B[0;32m     47\u001B[0m \u001B[38;5;66;03m# use the seaprate function and use y_series is input. \u001B[39;00m\n\u001B[1;32m---> 48\u001B[0m hx_series \u001B[38;5;241m=\u001B[39m \u001B[43mharris_net\u001B[49m\u001B[38;5;241m.\u001B[39mseparate(y_series)\n\u001B[0;32m     50\u001B[0m \u001B[38;5;66;03m# load the spikes from intracellular recordings from neurons with index 0\u001B[39;00m\n\u001B[0;32m     51\u001B[0m spikes \u001B[38;5;241m=\u001B[39m np\u001B[38;5;241m.\u001B[39mload(\u001B[38;5;124m\"\u001B[39m\u001B[38;5;124mspikes.npy\u001B[39m\u001B[38;5;124m\"\u001B[39m)\n",
      "\u001B[1;31mNameError\u001B[0m: name 'harris_net' is not defined"
     ]
    }
   ],
   "execution_count": 46
  },
  {
   "cell_type": "markdown",
   "metadata": {
    "colab_type": "text",
    "id": "Zn0o_a0AZMI-"
   },
   "source": [
    "Ideally, you want the above curve to be all the way down and left (the least false alarm and the true miss)."
   ]
  },
  {
   "cell_type": "markdown",
   "metadata": {
    "colab_type": "text",
    "id": "kBPIDkb5yOod"
   },
   "source": [
    "---\n",
    "## Wrap-up\n",
    "\n",
    "In this notebook, we learn about a convolutional generative model and how we can learn the parameters of the model through a particular recurrent neural network called CRsAE. We learned how to build and train CRsAE. We visualized the weights (filters). For our specific problem, the filters were corresponding to the shape of action potentials each neuron exhibits. At last, We applied CRsAE to Harris dataset and performed spike sorting."
   ]
  }
 ],
 "metadata": {
  "accelerator": "GPU",
  "colab": {
   "collapsed_sections": [
    "7ckUEqdu6Ian",
    "yTlDzIMQ6NzW",
    "ft8fVclW6OHj",
    "cBFb4wdO7umi",
    "o2gNStrC6OKv",
    "xGjLa8GHHAaX",
    "yi3dMjO0HrAq",
    "OKDRh4JnHrMC",
    "VMhzw2pO9csN",
    "IwSu2F_MEVpF",
    "5GXVxCHUEkha",
    "TOgKdxoVE7cW",
    "oXT_PH53FDPR",
    "aZhA92kdFQ-A",
    "GAxLXOlyFlRT",
    "RLyWKXO5vltk",
    "w-bVtLZy4jW-",
    "XpzqF1xl40Dp",
    "fCbI-aWs5NcS",
    "Q0esxRlP5ZHG",
    "poM1zuZC5nqi",
    "OS1vR0C650cF",
    "LVCq4z6_6Tn4"
   ],
   "name": "T3-ae-spikesorting.ipynb",
   "provenance": [],
   "toc_visible": true
  },
  "kernelspec": {
   "display_name": "Python 3 (ipykernel)",
   "language": "python",
   "name": "python3"
  },
  "language_info": {
   "codemirror_mode": {
    "name": "ipython",
    "version": 3
   },
   "file_extension": ".py",
   "mimetype": "text/x-python",
   "name": "python",
   "nbconvert_exporter": "python",
   "pygments_lexer": "ipython3",
   "version": "3.10.11"
  }
 },
 "nbformat": 4,
 "nbformat_minor": 4
}
